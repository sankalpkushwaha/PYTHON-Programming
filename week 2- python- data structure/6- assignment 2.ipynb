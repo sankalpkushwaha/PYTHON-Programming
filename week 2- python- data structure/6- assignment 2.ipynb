{
 "cells": [
  {
   "cell_type": "markdown",
   "id": "17192900-ef00-4a6d-b8e3-4473b4c94d25",
   "metadata": {},
   "source": [
    "Q1. How do you comment code in Python? What are the different types of comments?"
   ]
  },
  {
   "cell_type": "markdown",
   "id": "b859a254-442e-4729-a6b9-ae63ca4a3eb1",
   "metadata": {},
   "source": [
    "These comments are ignored by the Python interpreter and are intended for human readers to understand the code better"
   ]
  },
  {
   "cell_type": "raw",
   "id": "a164e907-d052-493c-a40e-172154d8b230",
   "metadata": {},
   "source": [
    "# This is a single-line comment\n",
    "\"\"\"\n",
    "This is a multi-line comment.\n",
    "You can write multiple lines of text here.\n",
    "\"\"\"\n",
    "x = 10  # This is a comment explaining the purpose of the variable\n"
   ]
  },
  {
   "cell_type": "markdown",
   "id": "def13cf3-9ef6-4824-853a-5545dbc0b710",
   "metadata": {},
   "source": [
    "Q2. What are variables in Python? How do you declare and assign values to variables?"
   ]
  },
  {
   "cell_type": "markdown",
   "id": "2008969c-9c7a-4dee-b68f-815a4e88a03c",
   "metadata": {},
   "source": [
    "In Python, variables are used to store and manipulate data. A variable is essentially a named location in the computer's memory where you can store a value. Unlike some other programming languages, Python does not require explicit declaration of variables.\n",
    "\n",
    "To declare and assign values to variables in Python, you simply need to choose a name for the variable and use the assignment operator (=) to assign a value to it. Here's an example:"
   ]
  },
  {
   "cell_type": "code",
   "execution_count": 5,
   "id": "a9c10076-9139-463f-827b-578eb4ab5cee",
   "metadata": {},
   "outputs": [],
   "source": [
    "# Variable declaration and assignment\n",
    "x = 10\n",
    "name = \"John Doe\"\n",
    "pi = 3.14159\n",
    "is_valid = True\n"
   ]
  },
  {
   "cell_type": "code",
   "execution_count": 7,
   "id": "e3cf82a4-e581-4e0e-9d43-50adb1d9e545",
   "metadata": {},
   "outputs": [
    {
     "name": "stdout",
     "output_type": "stream",
     "text": [
      "10\n",
      "John Doe\n",
      "3.14159\n",
      "True\n"
     ]
    }
   ],
   "source": [
    "print(x)\n",
    "print(name)\n",
    "print(pi)\n",
    "print(is_valid)\n"
   ]
  },
  {
   "cell_type": "markdown",
   "id": "fc5d7a27-2c2e-425d-903a-befc9bae05a1",
   "metadata": {},
   "source": [
    "Q3. How do you convert one data type to another in Python?"
   ]
  },
  {
   "cell_type": "markdown",
   "id": "817c37d3-2db0-4909-8cdf-133357222076",
   "metadata": {},
   "source": [
    "#1.int(): Converts a value to an integer data type.\n",
    "x = int(3.14)  # x will be assigned the value 3\n",
    "\n",
    "#2.float(): Converts a value to a floating-point data type.\n",
    "y = float(\"5.7\")  # y will be assigned the value 5.7\n",
    "\n",
    "#3.str(): Converts a value to a string data type.\n",
    "z = str(42)  # z will be assigned the string value \"42\"\n",
    "\n",
    "#4.bool(): Converts a value to a boolean data type.\n",
    "a = bool(0)  # a will be assigned the value False\n",
    "\n",
    "#5.list(), tuple(), and set(): Convert a value to a list, tuple, or set data type, respectively.\n",
    "\n",
    "my_list = list(\"hello\")  # my_list will be assigned the list ['h', 'e', 'l', 'l', 'o']\n",
    "my_tuple = tuple([1, 2, 3])  # my_tuple will be assigned the tuple (1, 2, 3)\n",
    "my_set = set([1, 2, 3])  # my_set will be assigned the set {1, 2, 3}\n",
    "\n",
    " In addition to these built-in functions, some data types in Python provide their own conversion methods.\n",
    "For example, the str() method can be used to convert other data types to a string:\n",
    "\n",
    "\n",
    "#6.x = 42\n",
    "x_str = str(x)  # x_str will be assigned the string value \"42\"\n",
    "\n",
    "Similarly, the list(), tuple(), and set() constructors can be used to convert other data types to their \n",
    "respective types.\n",
    "\n",
    "It's important to note that not all conversions are valid or meaningful.\n",
    "For example, converting a string that doesn't represent a valid integer to an integer will raise a ValueError:\n",
    "\n",
    "\n",
    "x = int(\"abc\")  # Raises ValueError: invalid literal for int() with base 10: 'abc'\n"
   ]
  },
  {
   "cell_type": "markdown",
   "id": "5aa3fbd3-6510-411c-bb76-58d63309deca",
   "metadata": {},
   "source": [
    "Q4. How do you write and execute a Python script from the command line?"
   ]
  },
  {
   "cell_type": "markdown",
   "id": "68680896-b037-4ec9-af71-d499d3cf66a1",
   "metadata": {},
   "source": [
    "1-Open a text editor and write your Python code. Save the file with a .py extension. For example, you can create a file named myscript.py and add the following code:\n",
    "\n",
    "print(\"Hello, world!\")\n",
    "\n",
    "2-Open a command prompt or terminal on your computer.\n",
    "\n",
    "3-Navigate to the directory where your Python script is located using the cd command. For example, if your script is saved in the Documents folder, you would use the following command on Windows:\n",
    "\n",
    "\n",
    "cd C:\\Users\\YourUsername\\Documents\n",
    " On macOS or Linux, you can use the following command:\n",
    "\n",
    "\n",
    "cd /Users/YourUsername/Documents\n",
    "\n",
    "4-Once you're in the correct directory, you can run the Python script using the python command followed by the name of your script. For example:\n",
    "\n",
    "python myscript.py\n",
    "\n",
    "5-Press the Enter key, and the Python script will be executed. In this example, it will print \"Hello, world!\" to the console.\n",
    "6--Note: In order to run Python scripts from the command line, you need to have Python installed on your computer and added to your system's PATH environment variable. If you're using a specific Python version or virtual environment, make sure you're using the correct Python executable or activate the desired virtual environment before executing the script."
   ]
  },
  {
   "cell_type": "markdown",
   "id": "043d2067-8465-4234-b316-b07c560f1ddf",
   "metadata": {},
   "source": [
    "Q5. Given a list my_list = [1, 2, 3, 4, 5], write the code to slice the list and obtain the sub-list [2, 3]."
   ]
  },
  {
   "cell_type": "code",
   "execution_count": 4,
   "id": "c64a461c-c77c-4926-8d2b-da9123f0d9eb",
   "metadata": {},
   "outputs": [
    {
     "name": "stdout",
     "output_type": "stream",
     "text": [
      "[2, 3]\n"
     ]
    }
   ],
   "source": [
    "my_list = [1, 2, 3, 4, 5]\n",
    "sub_list = my_list[1:3]\n",
    "print(sub_list)"
   ]
  },
  {
   "cell_type": "markdown",
   "id": "1c7e9d0b-e127-43cd-95a3-29cbb79f7747",
   "metadata": {},
   "source": [
    "Q6. What is a complex number in mathematics, and how is it represented in Python?"
   ]
  },
  {
   "cell_type": "markdown",
   "id": "301ad070-c223-4190-b5dd-6220fd9f5f41",
   "metadata": {},
   "source": [
    "In Python, complex numbers are represented using the complex data type. The complex type is built-in, and complex numbers can be created by directly specifying the real and imaginary parts, or by using the j or J suffix to denote the imaginary unit."
   ]
  },
  {
   "cell_type": "code",
   "execution_count": 8,
   "id": "96035745-55a4-47ed-a5d4-d718a313f132",
   "metadata": {},
   "outputs": [
    {
     "data": {
      "text/plain": [
       "complex"
      ]
     },
     "execution_count": 8,
     "metadata": {},
     "output_type": "execute_result"
    }
   ],
   "source": [
    "d=4+5j\n",
    "type(d)"
   ]
  },
  {
   "cell_type": "code",
   "execution_count": 10,
   "id": "032771cd-d437-41e1-aba7-0a22339291c1",
   "metadata": {},
   "outputs": [
    {
     "data": {
      "text/plain": [
       "4.0"
      ]
     },
     "execution_count": 10,
     "metadata": {},
     "output_type": "execute_result"
    }
   ],
   "source": [
    "d.real"
   ]
  },
  {
   "cell_type": "code",
   "execution_count": 13,
   "id": "b87fc227-205e-428e-b84b-e3929b60470c",
   "metadata": {},
   "outputs": [
    {
     "data": {
      "text/plain": [
       "5.0"
      ]
     },
     "execution_count": 13,
     "metadata": {},
     "output_type": "execute_result"
    }
   ],
   "source": [
    "d.imag"
   ]
  },
  {
   "cell_type": "code",
   "execution_count": 15,
   "id": "c0353a6c-c413-4666-b62d-c7d538ccc417",
   "metadata": {},
   "outputs": [
    {
     "name": "stdout",
     "output_type": "stream",
     "text": [
      "2.0\n",
      "3.0\n"
     ]
    }
   ],
   "source": [
    "# Creating complex numbers\n",
    "z1 = complex(2, 3)     # z1 = 2 + 3j\n",
    "z2 = 4 + 5j            # z2 = 4 + 5j\n",
    "z3 = 1.5 - 2.5j        # z3 = 1.5 - 2.5j\n",
    "\n",
    "# Accessing real and imaginary parts\n",
    "print(z1.real)         # Output: 2.0\n",
    "print(z1.imag)         # Output: 3.0\n",
    "\n",
    "# Performing arithmetic operations\n",
    "z_sum = z1 + z2        # Addition: (2 + 3j) + (4 + 5j) = 6 + 8j\n",
    "z_diff = z1 - z2       # Subtraction: (2 + 3j) - (4 + 5j) = -2 - 2j\n",
    "z_prod = z1 * z2       # Multiplication: (2 + 3j) * (4 + 5j) = -7 + 22j\n",
    "z_div = z1 / z2        # Division: (2 + 3j) / (4 + 5j) = 0.5609756097560976 + 0.0487804878048781j\n",
    "\n",
    "# Conjugate of a complex number\n",
    "z_conj = z1.conjugate()   # Conjugate of (2 + 3j) = 2 - 3j\n"
   ]
  },
  {
   "cell_type": "markdown",
   "id": "8645db2a-8b26-49ac-b812-297050a6294a",
   "metadata": {},
   "source": [
    "Q7. What is the correct way to declare a variable named age and assign the value 25 to it?"
   ]
  },
  {
   "cell_type": "code",
   "execution_count": 18,
   "id": "3947df9a-8293-48dc-8e5f-7d4aa680fbcf",
   "metadata": {},
   "outputs": [],
   "source": [
    "age=25"
   ]
  },
  {
   "cell_type": "markdown",
   "id": "e24b2ba5-84bc-4d89-b3ac-9e51e480ff6e",
   "metadata": {},
   "source": [
    "Q8. Declare a variable named price and assign the value 9.99 to it. What data type does this variable\n",
    "belong to?"
   ]
  },
  {
   "cell_type": "code",
   "execution_count": 20,
   "id": "e0337725-004d-4d63-a5a4-60e330e505dd",
   "metadata": {},
   "outputs": [
    {
     "name": "stdout",
     "output_type": "stream",
     "text": [
      "9.99\n"
     ]
    },
    {
     "data": {
      "text/plain": [
       "float"
      ]
     },
     "execution_count": 20,
     "metadata": {},
     "output_type": "execute_result"
    }
   ],
   "source": [
    "price=9.99\n",
    "print(price)\n",
    "type(price)"
   ]
  },
  {
   "cell_type": "markdown",
   "id": "3da2156f-0a2e-4c9e-9997-c6718061b18a",
   "metadata": {},
   "source": [
    "Q9. Create a variable named name and assign your full name to it as a string. How would you print the\n",
    "value of this variable?"
   ]
  },
  {
   "cell_type": "code",
   "execution_count": 22,
   "id": "146828ef-2993-4f21-bcde-5296f145b839",
   "metadata": {},
   "outputs": [
    {
     "name": "stdout",
     "output_type": "stream",
     "text": [
      "sankalp prasad kushwaha\n"
     ]
    },
    {
     "data": {
      "text/plain": [
       "str"
      ]
     },
     "execution_count": 22,
     "metadata": {},
     "output_type": "execute_result"
    }
   ],
   "source": [
    "name=\"sankalp prasad kushwaha\"\n",
    "print(name)\n",
    "type(name)"
   ]
  },
  {
   "cell_type": "markdown",
   "id": "5a86a535-5ee5-4d68-b2ec-d83ad2ccf679",
   "metadata": {},
   "source": [
    "Q10. Given the string \"Hello, World!\", extract the substring \"World\"."
   ]
  },
  {
   "cell_type": "code",
   "execution_count": 25,
   "id": "62030e87-28e3-4e60-b022-38fab6d2035b",
   "metadata": {},
   "outputs": [
    {
     "name": "stdout",
     "output_type": "stream",
     "text": [
      "World\n"
     ]
    }
   ],
   "source": [
    "s = \"Hello, World!\"\n",
    "substring = s[7:12]\n",
    "print(substring)"
   ]
  },
  {
   "cell_type": "markdown",
   "id": "bf6158b8-e78d-4a21-9684-ac42439e2912",
   "metadata": {},
   "source": [
    "Q11. Create a variable named \"is_student\" and assign it a boolean value indicating whether you are\n",
    "currently a student or not."
   ]
  },
  {
   "cell_type": "code",
   "execution_count": 27,
   "id": "be70a971-0251-4a60-9328-471e4e35f326",
   "metadata": {},
   "outputs": [],
   "source": [
    "is_student = True # If you are currently a student\n",
    "\n",
    "is_student = False  # If you are not currently a student\n"
   ]
  }
 ],
 "metadata": {
  "kernelspec": {
   "display_name": "Python 3 (ipykernel)",
   "language": "python",
   "name": "python3"
  },
  "language_info": {
   "codemirror_mode": {
    "name": "ipython",
    "version": 3
   },
   "file_extension": ".py",
   "mimetype": "text/x-python",
   "name": "python",
   "nbconvert_exporter": "python",
   "pygments_lexer": "ipython3",
   "version": "3.10.8"
  }
 },
 "nbformat": 4,
 "nbformat_minor": 5
}
