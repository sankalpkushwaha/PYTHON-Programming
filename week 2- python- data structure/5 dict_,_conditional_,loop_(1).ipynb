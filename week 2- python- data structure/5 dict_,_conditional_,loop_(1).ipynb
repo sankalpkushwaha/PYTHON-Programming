{
  "cells": [
    {
      "cell_type": "code",
      "execution_count": null,
      "id": "d3bc59a8-1cc1-4f97-9a11-337529dde45a",
      "metadata": {
        "id": "d3bc59a8-1cc1-4f97-9a11-337529dde45a"
      },
      "outputs": [],
      "source": [
        "d = {}"
      ]
    },
    {
      "cell_type": "code",
      "execution_count": null,
      "id": "9c4e1cc8-948f-4630-8e4c-689a196672bf",
      "metadata": {
        "id": "9c4e1cc8-948f-4630-8e4c-689a196672bf",
        "outputId": "cc63d532-f0e4-418d-f2eb-f7b728381599"
      },
      "outputs": [
        {
          "data": {
            "text/plain": [
              "dict"
            ]
          },
          "execution_count": 3,
          "metadata": {},
          "output_type": "execute_result"
        }
      ],
      "source": [
        "type(d)"
      ]
    },
    {
      "cell_type": "code",
      "execution_count": null,
      "id": "15439b41-f222-48e7-87cf-0fdc439d5483",
      "metadata": {
        "id": "15439b41-f222-48e7-87cf-0fdc439d5483"
      },
      "outputs": [],
      "source": [
        "d1 = {'key' : \"sudh\"}"
      ]
    },
    {
      "cell_type": "code",
      "execution_count": null,
      "id": "e0052ccd-92c9-42d5-8152-5d3e3d7da393",
      "metadata": {
        "id": "e0052ccd-92c9-42d5-8152-5d3e3d7da393",
        "outputId": "faad5c99-7f60-48fe-8ca3-8968fb4e543e"
      },
      "outputs": [
        {
          "data": {
            "text/plain": [
              "{'key': 'sudh'}"
            ]
          },
          "execution_count": 5,
          "metadata": {},
          "output_type": "execute_result"
        }
      ],
      "source": [
        "d1"
      ]
    },
    {
      "cell_type": "code",
      "execution_count": null,
      "id": "b9816072-25a2-4556-ae7e-a8f8a6f189b8",
      "metadata": {
        "id": "b9816072-25a2-4556-ae7e-a8f8a6f189b8"
      },
      "outputs": [],
      "source": [
        "d2 = {'name' : \"sudhanshu\" , \"email\" : \"ss@gmail.com\", \"number\" : 334534}"
      ]
    },
    {
      "cell_type": "code",
      "execution_count": null,
      "id": "c139ef00-3548-4a29-b041-1c2ba9b3db2f",
      "metadata": {
        "id": "c139ef00-3548-4a29-b041-1c2ba9b3db2f",
        "outputId": "1898ff2b-cf14-4b98-a2af-91fad78ef00b"
      },
      "outputs": [
        {
          "data": {
            "text/plain": [
              "{'name': 'sudhanshu', 'email': 'ss@gmail.com', 'number': 334534}"
            ]
          },
          "execution_count": 7,
          "metadata": {},
          "output_type": "execute_result"
        }
      ],
      "source": [
        "d2"
      ]
    },
    {
      "cell_type": "code",
      "execution_count": null,
      "id": "d40e089b-4763-42d9-9a65-f0fb5489b8f4",
      "metadata": {
        "id": "d40e089b-4763-42d9-9a65-f0fb5489b8f4"
      },
      "outputs": [],
      "source": [
        "d3 = {234 : \"sudh\" , '_wer' : \"kumar\",True :24234}"
      ]
    },
    {
      "cell_type": "code",
      "execution_count": null,
      "id": "5b03eeb2-baa8-4051-ba80-e5729db0d8b0",
      "metadata": {
        "id": "5b03eeb2-baa8-4051-ba80-e5729db0d8b0",
        "outputId": "33611e42-3e6b-4cbf-9d54-e38261a971fb"
      },
      "outputs": [
        {
          "data": {
            "text/plain": [
              "{234: 'sudh', '_wer': 'kumar', True: 24234}"
            ]
          },
          "execution_count": 14,
          "metadata": {},
          "output_type": "execute_result"
        }
      ],
      "source": [
        "d3"
      ]
    },
    {
      "cell_type": "code",
      "execution_count": null,
      "id": "d239b7c7-b9dc-4714-b063-2fb7ace1fd3d",
      "metadata": {
        "id": "d239b7c7-b9dc-4714-b063-2fb7ace1fd3d",
        "outputId": "518fb4b1-2ad9-40f2-f6e7-821aea1c4299"
      },
      "outputs": [
        {
          "data": {
            "text/plain": [
              "'sudh'"
            ]
          },
          "execution_count": 15,
          "metadata": {},
          "output_type": "execute_result"
        }
      ],
      "source": [
        "d3[234]"
      ]
    },
    {
      "cell_type": "code",
      "execution_count": null,
      "id": "20f1ccaa-319f-4a79-ac54-b78cdcf97b65",
      "metadata": {
        "id": "20f1ccaa-319f-4a79-ac54-b78cdcf97b65",
        "outputId": "2824f976-8087-4e56-fdad-34cf07debd41"
      },
      "outputs": [
        {
          "data": {
            "text/plain": [
              "24234"
            ]
          },
          "execution_count": 16,
          "metadata": {},
          "output_type": "execute_result"
        }
      ],
      "source": [
        "d3[True]"
      ]
    },
    {
      "cell_type": "code",
      "execution_count": null,
      "id": "06cc2d90-a745-4b78-b5ee-99c5433222be",
      "metadata": {
        "id": "06cc2d90-a745-4b78-b5ee-99c5433222be",
        "outputId": "9ce167d9-86bb-463c-a258-70c2771a11b5"
      },
      "outputs": [
        {
          "data": {
            "text/plain": [
              "24234"
            ]
          },
          "execution_count": 17,
          "metadata": {},
          "output_type": "execute_result"
        }
      ],
      "source": [
        "d3[1]"
      ]
    },
    {
      "cell_type": "code",
      "execution_count": null,
      "id": "8bbc4c68-fa4d-4ebb-9566-f29e7d50d4f3",
      "metadata": {
        "id": "8bbc4c68-fa4d-4ebb-9566-f29e7d50d4f3"
      },
      "outputs": [],
      "source": [
        "d4 = {'name':\"sudh\" , 'mail_id' :\"ss@gmail.com\" ,\"name\":\"sudhanshu\"}"
      ]
    },
    {
      "cell_type": "code",
      "execution_count": null,
      "id": "56f003f4-0639-4670-a545-e82168f8f299",
      "metadata": {
        "id": "56f003f4-0639-4670-a545-e82168f8f299",
        "outputId": "e4cee79c-9898-4749-baa5-ca82d75f6703"
      },
      "outputs": [
        {
          "data": {
            "text/plain": [
              "'sudhanshu'"
            ]
          },
          "execution_count": 20,
          "metadata": {},
          "output_type": "execute_result"
        }
      ],
      "source": [
        "d4['name']"
      ]
    },
    {
      "cell_type": "code",
      "execution_count": null,
      "id": "bb6d3237-d93b-48ab-ac2b-8aaba7d5e6c7",
      "metadata": {
        "id": "bb6d3237-d93b-48ab-ac2b-8aaba7d5e6c7"
      },
      "outputs": [],
      "source": [
        "d5 ={\"company\" : \"pwskills\" , \"course\" :[\"web dev\" , \"data science \" , \"java with dsa system design\"]}"
      ]
    },
    {
      "cell_type": "code",
      "execution_count": null,
      "id": "b02c0815-4b95-4b09-8479-4b63051c77d6",
      "metadata": {
        "id": "b02c0815-4b95-4b09-8479-4b63051c77d6",
        "outputId": "a8607bfc-ffba-4619-8fbd-16a32dd9f55b"
      },
      "outputs": [
        {
          "data": {
            "text/plain": [
              "{'company': 'pwskills',\n",
              " 'course': ['web dev', 'data science ', 'java with dsa system design']}"
            ]
          },
          "execution_count": 22,
          "metadata": {},
          "output_type": "execute_result"
        }
      ],
      "source": [
        "d5 "
      ]
    },
    {
      "cell_type": "code",
      "execution_count": null,
      "id": "db8355ef-a2ca-48b5-8785-a8da7639aa9b",
      "metadata": {
        "id": "db8355ef-a2ca-48b5-8785-a8da7639aa9b",
        "outputId": "e3400aeb-bbc2-442d-c554-6656053ecc2c"
      },
      "outputs": [
        {
          "data": {
            "text/plain": [
              "['web dev', 'data science ', 'java with dsa system design']"
            ]
          },
          "execution_count": 23,
          "metadata": {},
          "output_type": "execute_result"
        }
      ],
      "source": [
        "d5['course']"
      ]
    },
    {
      "cell_type": "code",
      "execution_count": null,
      "id": "d702ed13-a5db-4c83-99ae-30d2d275f6a7",
      "metadata": {
        "id": "d702ed13-a5db-4c83-99ae-30d2d275f6a7",
        "outputId": "193a7e6a-1077-4a53-eb24-1c82e727ebd8"
      },
      "outputs": [
        {
          "data": {
            "text/plain": [
              "'java with dsa system design'"
            ]
          },
          "execution_count": 24,
          "metadata": {},
          "output_type": "execute_result"
        }
      ],
      "source": [
        "d5['course'][2]"
      ]
    },
    {
      "cell_type": "code",
      "execution_count": null,
      "id": "6c81af66-5eae-4d04-9d63-26db91b7f1f9",
      "metadata": {
        "id": "6c81af66-5eae-4d04-9d63-26db91b7f1f9"
      },
      "outputs": [],
      "source": [
        "d6 = {\"number\" : [2,34,3,34,34],\"assignment\":(1,2,3,4,5,6) , \"launch_date\":{28,12,14} ,\"class_time\":{\"web_dev\": 8 , \"Data science masters\" : 8 , \"java with dsa and system design\":7}}"
      ]
    },
    {
      "cell_type": "code",
      "execution_count": null,
      "id": "dcdcc28b-1783-4d52-a153-93170a8f27b1",
      "metadata": {
        "id": "dcdcc28b-1783-4d52-a153-93170a8f27b1"
      },
      "outputs": [],
      "source": []
    },
    {
      "cell_type": "code",
      "execution_count": null,
      "id": "ad8ca77d-299d-4105-a367-60f18a8c1f9c",
      "metadata": {
        "id": "ad8ca77d-299d-4105-a367-60f18a8c1f9c",
        "outputId": "bc443617-f199-4fc9-ce81-5cc8a2e37235"
      },
      "outputs": [
        {
          "data": {
            "text/plain": [
              "{'number': [2, 34, 3, 34, 34],\n",
              " 'assignment': (1, 2, 3, 4, 5, 6),\n",
              " 'launch_date': {12, 14, 28},\n",
              " 'class_time': {'web_dev': 8,\n",
              "  'Data science masters': 8,\n",
              "  'java with dsa and system design': 7}}"
            ]
          },
          "execution_count": 28,
          "metadata": {},
          "output_type": "execute_result"
        }
      ],
      "source": [
        "d6"
      ]
    },
    {
      "cell_type": "code",
      "execution_count": null,
      "id": "5750a3b2-1e34-4d33-98b4-865a53484c4f",
      "metadata": {
        "id": "5750a3b2-1e34-4d33-98b4-865a53484c4f",
        "outputId": "177da4ed-25c7-4505-88f7-a53cc3abf9ae"
      },
      "outputs": [
        {
          "data": {
            "text/plain": [
              "7"
            ]
          },
          "execution_count": 30,
          "metadata": {},
          "output_type": "execute_result"
        }
      ],
      "source": [
        "d6['class_time']['java with dsa and system design']"
      ]
    },
    {
      "cell_type": "code",
      "execution_count": null,
      "id": "d06f2b52-dcef-46c3-b341-60230734f23d",
      "metadata": {
        "id": "d06f2b52-dcef-46c3-b341-60230734f23d",
        "outputId": "c6d00cf1-7c2c-4300-b046-b75231a224c2"
      },
      "outputs": [
        {
          "data": {
            "text/plain": [
              "{'number': [2, 34, 3, 34, 34],\n",
              " 'assignment': (1, 2, 3, 4, 5, 6),\n",
              " 'launch_date': {12, 14, 28},\n",
              " 'class_time': {'web_dev': 8,\n",
              "  'Data science masters': 8,\n",
              "  'java with dsa and system design': 7}}"
            ]
          },
          "execution_count": 31,
          "metadata": {},
          "output_type": "execute_result"
        }
      ],
      "source": [
        "d6"
      ]
    },
    {
      "cell_type": "code",
      "execution_count": null,
      "id": "52447cf1-a055-4f8c-bb2f-26803d932dfd",
      "metadata": {
        "id": "52447cf1-a055-4f8c-bb2f-26803d932dfd"
      },
      "outputs": [],
      "source": [
        "d6['mentor'] = [\"sudhanshu\",\"krish\",\"anurag\" , \"hayder\"]"
      ]
    },
    {
      "cell_type": "code",
      "execution_count": null,
      "id": "8f48b7d0-7b5c-43d3-87ee-b87b5de3596f",
      "metadata": {
        "id": "8f48b7d0-7b5c-43d3-87ee-b87b5de3596f",
        "outputId": "2f3c75fb-395d-4b43-d765-2f15277f8a41"
      },
      "outputs": [
        {
          "data": {
            "text/plain": [
              "{'number': [2, 34, 3, 34, 34],\n",
              " 'assignment': (1, 2, 3, 4, 5, 6),\n",
              " 'launch_date': {12, 14, 28},\n",
              " 'class_time': {'web_dev': 8,\n",
              "  'Data science masters': 8,\n",
              "  'java with dsa and system design': 7},\n",
              " 'mentor': ['sudhanshu', 'krish', 'anurag', 'hayder']}"
            ]
          },
          "execution_count": 33,
          "metadata": {},
          "output_type": "execute_result"
        }
      ],
      "source": [
        "d6"
      ]
    },
    {
      "cell_type": "code",
      "execution_count": null,
      "id": "bc79fbe3-af96-4aaf-9e22-216e0967e937",
      "metadata": {
        "id": "bc79fbe3-af96-4aaf-9e22-216e0967e937"
      },
      "outputs": [],
      "source": [
        "del d6['number']"
      ]
    },
    {
      "cell_type": "code",
      "execution_count": null,
      "id": "ff209f7f-7e61-40ae-b9f2-3534c817f571",
      "metadata": {
        "id": "ff209f7f-7e61-40ae-b9f2-3534c817f571",
        "outputId": "d128b317-6b4f-425f-a06b-ed167e50bbca"
      },
      "outputs": [
        {
          "data": {
            "text/plain": [
              "{'assignment': (1, 2, 3, 4, 5, 6),\n",
              " 'launch_date': {12, 14, 28},\n",
              " 'class_time': {'web_dev': 8,\n",
              "  'Data science masters': 8,\n",
              "  'java with dsa and system design': 7},\n",
              " 'mentor': ['sudhanshu', 'krish', 'anurag', 'hayder']}"
            ]
          },
          "execution_count": 35,
          "metadata": {},
          "output_type": "execute_result"
        }
      ],
      "source": [
        "d6"
      ]
    },
    {
      "cell_type": "code",
      "execution_count": null,
      "id": "b63cead9-5ee4-447a-a880-0f741d357d18",
      "metadata": {
        "id": "b63cead9-5ee4-447a-a880-0f741d357d18",
        "outputId": "14a672ab-1756-44b0-d516-aded35fc6934"
      },
      "outputs": [
        {
          "data": {
            "text/plain": [
              "['assignment', 'launch_date', 'class_time', 'mentor']"
            ]
          },
          "execution_count": 37,
          "metadata": {},
          "output_type": "execute_result"
        }
      ],
      "source": [
        "list(d6.keys())"
      ]
    },
    {
      "cell_type": "code",
      "execution_count": null,
      "id": "69e8cc8e-86d8-4317-9e0b-d336ee4795ce",
      "metadata": {
        "id": "69e8cc8e-86d8-4317-9e0b-d336ee4795ce",
        "outputId": "6d94d973-c078-42db-8647-6c504ffa634f"
      },
      "outputs": [
        {
          "data": {
            "text/plain": [
              "[(1, 2, 3, 4, 5, 6),\n",
              " {12, 14, 28},\n",
              " {'web_dev': 8,\n",
              "  'Data science masters': 8,\n",
              "  'java with dsa and system design': 7},\n",
              " ['sudhanshu', 'krish', 'anurag', 'hayder']]"
            ]
          },
          "execution_count": 39,
          "metadata": {},
          "output_type": "execute_result"
        }
      ],
      "source": [
        "list(d6.values())"
      ]
    },
    {
      "cell_type": "code",
      "execution_count": null,
      "id": "c467ed3e-8e45-43a2-b3fb-b4792d6a6e86",
      "metadata": {
        "id": "c467ed3e-8e45-43a2-b3fb-b4792d6a6e86",
        "outputId": "88ee87eb-a127-44e7-a0e5-9ee981a4ed5e"
      },
      "outputs": [
        {
          "data": {
            "text/plain": [
              "[('assignment', (1, 2, 3, 4, 5, 6)),\n",
              " ('launch_date', {12, 14, 28}),\n",
              " ('class_time',\n",
              "  {'web_dev': 8,\n",
              "   'Data science masters': 8,\n",
              "   'java with dsa and system design': 7}),\n",
              " ('mentor', ['sudhanshu', 'krish', 'anurag', 'hayder'])]"
            ]
          },
          "execution_count": 41,
          "metadata": {},
          "output_type": "execute_result"
        }
      ],
      "source": [
        "list(d6.items())"
      ]
    },
    {
      "cell_type": "code",
      "execution_count": null,
      "id": "6bb5b908-b598-4e51-a301-ca7679987ff6",
      "metadata": {
        "id": "6bb5b908-b598-4e51-a301-ca7679987ff6",
        "outputId": "cfc45693-c0c6-46cf-a598-a5b16acc4107"
      },
      "outputs": [
        {
          "data": {
            "text/plain": [
              "(1, 2, 3, 4, 5, 6)"
            ]
          },
          "execution_count": 42,
          "metadata": {},
          "output_type": "execute_result"
        }
      ],
      "source": [
        "d6.pop('assignment')"
      ]
    },
    {
      "cell_type": "code",
      "execution_count": null,
      "id": "db1e47f4-3a3b-4ea9-9822-4245c95b913e",
      "metadata": {
        "id": "db1e47f4-3a3b-4ea9-9822-4245c95b913e",
        "outputId": "0ad72a04-f036-4189-c594-b349c7880822"
      },
      "outputs": [
        {
          "data": {
            "text/plain": [
              "{'launch_date': {12, 14, 28},\n",
              " 'class_time': {'web_dev': 8,\n",
              "  'Data science masters': 8,\n",
              "  'java with dsa and system design': 7},\n",
              " 'mentor': ['sudhanshu', 'krish', 'anurag', 'hayder']}"
            ]
          },
          "execution_count": 43,
          "metadata": {},
          "output_type": "execute_result"
        }
      ],
      "source": [
        "d6"
      ]
    },
    {
      "cell_type": "code",
      "execution_count": null,
      "id": "10fdb38c-3a46-48f4-b8d1-15a72d353ce5",
      "metadata": {
        "id": "10fdb38c-3a46-48f4-b8d1-15a72d353ce5",
        "outputId": "442ce277-3ffc-4853-e26c-76c9fe22c38d"
      },
      "outputs": [
        {
          "ename": "TypeError",
          "evalue": "pop expected at least 1 argument, got 0",
          "output_type": "error",
          "traceback": [
            "\u001b[0;31m---------------------------------------------------------------------------\u001b[0m",
            "\u001b[0;31mTypeError\u001b[0m                                 Traceback (most recent call last)",
            "Cell \u001b[0;32mIn[46], line 1\u001b[0m\n\u001b[0;32m----> 1\u001b[0m \u001b[43md6\u001b[49m\u001b[38;5;241;43m.\u001b[39;49m\u001b[43mpop\u001b[49m\u001b[43m(\u001b[49m\u001b[43m)\u001b[49m\n",
            "\u001b[0;31mTypeError\u001b[0m: pop expected at least 1 argument, got 0"
          ]
        }
      ],
      "source": [
        "d6.pop()"
      ]
    },
    {
      "cell_type": "code",
      "execution_count": null,
      "id": "f46f8e48-f159-479b-bee6-33abe93a7ebf",
      "metadata": {
        "id": "f46f8e48-f159-479b-bee6-33abe93a7ebf",
        "outputId": "77bf2e17-c813-41e0-c044-d9956c638800"
      },
      "outputs": [
        {
          "name": "stdin",
          "output_type": "stream",
          "text": [
            "enter your marks  90\n"
          ]
        },
        {
          "name": "stdout",
          "output_type": "stream",
          "text": [
            "you will be a part of A0 batch\n"
          ]
        }
      ],
      "source": [
        "marks = int(input(\"enter your marks \"))\n",
        "if marks >= 80:\n",
        "    print(\"you will be a part of A0 batch\")\n",
        "elif marks >= 60 and marks< 80:\n",
        "    print(\"you will be a part of A1 batch\")\n",
        "elif marks >= 40 and marks < 60 :\n",
        "    print(\"you will be a part of A2 batch \")\n",
        "else :\n",
        "    print(\"you will be a part of A3 batch \")\n",
        "    \n",
        "    "
      ]
    },
    {
      "cell_type": "code",
      "execution_count": null,
      "id": "945fa0a0-d575-4001-996b-7cb2cd8d7b0d",
      "metadata": {
        "id": "945fa0a0-d575-4001-996b-7cb2cd8d7b0d",
        "outputId": "eee9cc0a-5bae-440c-8a30-5cb5aa28586c"
      },
      "outputs": [
        {
          "data": {
            "text/plain": [
              "False"
            ]
          },
          "execution_count": 55,
          "metadata": {},
          "output_type": "execute_result"
        }
      ],
      "source": [
        "10 >= 80"
      ]
    },
    {
      "cell_type": "code",
      "execution_count": null,
      "id": "bcc043c7-c706-4009-b659-3d973bdebeeb",
      "metadata": {
        "id": "bcc043c7-c706-4009-b659-3d973bdebeeb",
        "outputId": "3da2f0da-b150-48d0-e7e4-82d90323791e"
      },
      "outputs": [
        {
          "name": "stdin",
          "output_type": "stream",
          "text": [
            "enter your marks  324\n"
          ]
        }
      ],
      "source": [
        "marks = int(input(\"enter your marks \"))"
      ]
    },
    {
      "cell_type": "code",
      "execution_count": null,
      "id": "5c627e2d-6113-4255-b639-1dfba3303d47",
      "metadata": {
        "id": "5c627e2d-6113-4255-b639-1dfba3303d47",
        "outputId": "be209417-cc32-4fc5-cf9c-2df2ab4c67fe"
      },
      "outputs": [
        {
          "data": {
            "text/plain": [
              "324"
            ]
          },
          "execution_count": 64,
          "metadata": {},
          "output_type": "execute_result"
        }
      ],
      "source": [
        "marks"
      ]
    },
    {
      "cell_type": "code",
      "execution_count": null,
      "id": "e96d8057-64e3-4961-b26c-0b5b871bb341",
      "metadata": {
        "id": "e96d8057-64e3-4961-b26c-0b5b871bb341",
        "outputId": "5fec49b3-0ad0-42ef-dcfa-4f3f82537bd5"
      },
      "outputs": [
        {
          "data": {
            "text/plain": [
              "int"
            ]
          },
          "execution_count": 65,
          "metadata": {},
          "output_type": "execute_result"
        }
      ],
      "source": [
        "type(marks)"
      ]
    },
    {
      "cell_type": "code",
      "execution_count": null,
      "id": "253159d0-2c21-4017-a631-dcfb58233ab9",
      "metadata": {
        "id": "253159d0-2c21-4017-a631-dcfb58233ab9",
        "outputId": "48053a37-80ed-46d4-93bd-ace6bb6a11ee"
      },
      "outputs": [
        {
          "name": "stdin",
          "output_type": "stream",
          "text": [
            "enter price  500\n"
          ]
        },
        {
          "name": "stdout",
          "output_type": "stream",
          "text": [
            "i will purchase\n"
          ]
        }
      ],
      "source": [
        "price = int(input(\"enter price \" ))\n",
        "if price > 1000:\n",
        "    print(\"i will not purchase\")\n",
        "else :\n",
        "    print(\"i will purchase\")"
      ]
    },
    {
      "cell_type": "code",
      "execution_count": null,
      "id": "628ed574-e92a-4b12-94f2-5cabf74e9e59",
      "metadata": {
        "id": "628ed574-e92a-4b12-94f2-5cabf74e9e59",
        "outputId": "e5adbc6c-0f26-4282-ad5c-7e4bf4920850"
      },
      "outputs": [
        {
          "name": "stdin",
          "output_type": "stream",
          "text": [
            "enter price  600\n"
          ]
        },
        {
          "name": "stdout",
          "output_type": "stream",
          "text": [
            "i will purchase\n"
          ]
        }
      ],
      "source": [
        "price = int(input(\"enter price \" ))\n",
        "if price > 1000:\n",
        "    print(\"i will not purchase\")\n",
        "    if price >5000:\n",
        "        print(\"this is too much \")\n",
        "    elif price < 2000 : \n",
        "        print(\"its ok\")\n",
        "elif price < 1000 or price > 500 :\n",
        "    print(\"i will purchase\")\n",
        "else :\n",
        "    print(\"not interested \")"
      ]
    },
    {
      "cell_type": "code",
      "execution_count": null,
      "id": "6c51f7e7-a567-4288-89c4-9b8bf30e7498",
      "metadata": {
        "id": "6c51f7e7-a567-4288-89c4-9b8bf30e7498"
      },
      "outputs": [],
      "source": [
        "l = [1,2,3,3,4,5,6,7,8]"
      ]
    },
    {
      "cell_type": "code",
      "execution_count": null,
      "id": "8dbcc218-0212-4f51-9bf8-59f69c731ef9",
      "metadata": {
        "id": "8dbcc218-0212-4f51-9bf8-59f69c731ef9",
        "outputId": "c3b69a6c-4402-45d8-d60c-7a41f08a2633"
      },
      "outputs": [
        {
          "data": {
            "text/plain": [
              "2"
            ]
          },
          "execution_count": 77,
          "metadata": {},
          "output_type": "execute_result"
        }
      ],
      "source": [
        "l[0] +1"
      ]
    },
    {
      "cell_type": "code",
      "execution_count": null,
      "id": "55938e22-4927-492c-8e91-f60b7871659f",
      "metadata": {
        "id": "55938e22-4927-492c-8e91-f60b7871659f"
      },
      "outputs": [],
      "source": [
        "l1 = []"
      ]
    },
    {
      "cell_type": "code",
      "execution_count": null,
      "id": "3a06be4a-d01c-46a7-98f6-edc8e45ca547",
      "metadata": {
        "id": "3a06be4a-d01c-46a7-98f6-edc8e45ca547"
      },
      "outputs": [],
      "source": [
        "l1.append(l[0] +1)"
      ]
    },
    {
      "cell_type": "code",
      "execution_count": null,
      "id": "4b4f5187-3b25-4568-a154-c42235a6b823",
      "metadata": {
        "id": "4b4f5187-3b25-4568-a154-c42235a6b823",
        "outputId": "536fed6d-0fcf-400e-b6ad-278111786d21"
      },
      "outputs": [
        {
          "data": {
            "text/plain": [
              "[2]"
            ]
          },
          "execution_count": 80,
          "metadata": {},
          "output_type": "execute_result"
        }
      ],
      "source": [
        "l1"
      ]
    },
    {
      "cell_type": "code",
      "execution_count": null,
      "id": "8d0b681b-1507-4584-b285-2714f0d7ca5f",
      "metadata": {
        "id": "8d0b681b-1507-4584-b285-2714f0d7ca5f"
      },
      "outputs": [],
      "source": [
        "l = [1,2,3,3,4,5,6,7,8]"
      ]
    },
    {
      "cell_type": "code",
      "execution_count": null,
      "id": "741834cb-b41f-4639-b591-b4d9138356b5",
      "metadata": {
        "id": "741834cb-b41f-4639-b591-b4d9138356b5",
        "outputId": "1a7069a2-2d1c-4a2e-99ba-2b10d6ef2c49"
      },
      "outputs": [
        {
          "name": "stdout",
          "output_type": "stream",
          "text": [
            "2\n",
            "3\n",
            "4\n",
            "4\n",
            "5\n",
            "6\n",
            "7\n",
            "8\n",
            "9\n"
          ]
        },
        {
          "data": {
            "text/plain": [
              "[2, 3, 4, 4, 5, 6, 7, 8, 9]"
            ]
          },
          "execution_count": 119,
          "metadata": {},
          "output_type": "execute_result"
        }
      ],
      "source": [
        "l1 = []\n",
        "for i in l :\n",
        "    l1.append(i+1)\n",
        "    print(i+1)\n",
        "l1"
      ]
    },
    {
      "cell_type": "code",
      "execution_count": null,
      "id": "5ce68476-fb22-4199-abf5-82dd1ba9098b",
      "metadata": {
        "id": "5ce68476-fb22-4199-abf5-82dd1ba9098b"
      },
      "outputs": [],
      "source": []
    },
    {
      "cell_type": "code",
      "execution_count": null,
      "id": "e8321831-f0d3-491d-b7a4-b9c224cae5c9",
      "metadata": {
        "id": "e8321831-f0d3-491d-b7a4-b9c224cae5c9"
      },
      "outputs": [],
      "source": []
    },
    {
      "cell_type": "code",
      "execution_count": null,
      "id": "7f9a8af5-f494-4295-b0a0-ab868efe094c",
      "metadata": {
        "id": "7f9a8af5-f494-4295-b0a0-ab868efe094c",
        "outputId": "c1599281-483f-4f87-8b1c-1106712572f0"
      },
      "outputs": [
        {
          "data": {
            "text/plain": [
              "[1, 2, 3, 3, 4, 5, 6, 7, 8]"
            ]
          },
          "execution_count": 87,
          "metadata": {},
          "output_type": "execute_result"
        }
      ],
      "source": [
        "l"
      ]
    },
    {
      "cell_type": "code",
      "execution_count": null,
      "id": "0db91fea-fa97-4115-bc50-83cdf35203bc",
      "metadata": {
        "id": "0db91fea-fa97-4115-bc50-83cdf35203bc"
      },
      "outputs": [],
      "source": [
        "l = [\"sudh\" , \"kumar\" , \"pwskills\" , \"course\"]"
      ]
    },
    {
      "cell_type": "code",
      "execution_count": null,
      "id": "01c7b1b3-05d2-4e81-9870-d2b01591f2c2",
      "metadata": {
        "id": "01c7b1b3-05d2-4e81-9870-d2b01591f2c2",
        "outputId": "2096e2b7-e88d-4350-97ca-198a34cfe6c3"
      },
      "outputs": [
        {
          "name": "stdout",
          "output_type": "stream",
          "text": [
            "sudh\n",
            "kumar\n",
            "pwskills\n",
            "course\n"
          ]
        }
      ],
      "source": [
        "l1 = []\n",
        "for i in l :\n",
        "    print(i)\n",
        "    l1.append(i.upper())"
      ]
    },
    {
      "cell_type": "code",
      "execution_count": null,
      "id": "aa2f22b4-7831-477b-a522-c7715620a288",
      "metadata": {
        "id": "aa2f22b4-7831-477b-a522-c7715620a288",
        "outputId": "1e486ad8-ccb0-40cb-f8c8-6bc09131318e"
      },
      "outputs": [
        {
          "data": {
            "text/plain": [
              "['SUDH', 'KUMAR', 'PWSKILLS', 'COURSE']"
            ]
          },
          "execution_count": 92,
          "metadata": {},
          "output_type": "execute_result"
        }
      ],
      "source": [
        "l1"
      ]
    },
    {
      "cell_type": "code",
      "execution_count": null,
      "id": "d774bd3c-eca4-4e90-85ac-593270bcd9eb",
      "metadata": {
        "id": "d774bd3c-eca4-4e90-85ac-593270bcd9eb"
      },
      "outputs": [],
      "source": [
        "l = [1,2,3,4,4,\"sudh\" , \"kmumar\" , 324,34.456,\"abc\"]"
      ]
    },
    {
      "cell_type": "code",
      "execution_count": null,
      "id": "7f946d3f-8b87-4f90-a494-0b94e472433a",
      "metadata": {
        "id": "7f946d3f-8b87-4f90-a494-0b94e472433a"
      },
      "outputs": [],
      "source": [
        "l1_num = []\n",
        "l2_str = []\n",
        "for i in l :\n",
        "    if type(i) == int or type(i) == float :\n",
        "        l1_num.append(i)\n",
        "    else :\n",
        "        l2_str.append(i)"
      ]
    },
    {
      "cell_type": "code",
      "execution_count": null,
      "id": "78fc770b-66f2-4252-af13-0f192b55ba0f",
      "metadata": {
        "id": "78fc770b-66f2-4252-af13-0f192b55ba0f",
        "outputId": "bcc91cb5-8a67-4193-b0b2-a623b142801b"
      },
      "outputs": [
        {
          "data": {
            "text/plain": [
              "[1, 2, 3, 4, 4, 324, 34.456]"
            ]
          },
          "execution_count": 97,
          "metadata": {},
          "output_type": "execute_result"
        }
      ],
      "source": [
        "l1_num"
      ]
    },
    {
      "cell_type": "code",
      "execution_count": null,
      "id": "04f1e78e-5853-475d-aeb8-0d77c4cb8fb3",
      "metadata": {
        "id": "04f1e78e-5853-475d-aeb8-0d77c4cb8fb3",
        "outputId": "1ccdd5c1-c560-4449-c9a8-e45fa00893fb"
      },
      "outputs": [
        {
          "data": {
            "text/plain": [
              "['sudh', 'kmumar', 'abc']"
            ]
          },
          "execution_count": 98,
          "metadata": {},
          "output_type": "execute_result"
        }
      ],
      "source": [
        "l2_str"
      ]
    },
    {
      "cell_type": "code",
      "execution_count": null,
      "id": "a5d2c83d-436d-467c-9572-c07d87f4412e",
      "metadata": {
        "id": "a5d2c83d-436d-467c-9572-c07d87f4412e"
      },
      "outputs": [],
      "source": [
        "100+ sample "
      ]
    },
    {
      "cell_type": "code",
      "execution_count": null,
      "id": "4090412b-7795-400f-9039-db9c1b263537",
      "metadata": {
        "id": "4090412b-7795-400f-9039-db9c1b263537"
      },
      "outputs": [],
      "source": [
        "[] - list\n",
        "() - tuple\n",
        "{} - with flat element set \n",
        "{} - with key value pair dict"
      ]
    },
    {
      "cell_type": "code",
      "execution_count": null,
      "id": "e17558c2-fdde-42ff-913d-69bcf6b71a04",
      "metadata": {
        "id": "e17558c2-fdde-42ff-913d-69bcf6b71a04"
      },
      "outputs": [],
      "source": [
        "t = (True,4,5,6)"
      ]
    },
    {
      "cell_type": "code",
      "execution_count": null,
      "id": "a6318b84-6018-49ae-b870-60ab797cc7aa",
      "metadata": {
        "id": "a6318b84-6018-49ae-b870-60ab797cc7aa",
        "outputId": "9ebfa9d3-a29c-441f-e926-5a8e9e0beb95"
      },
      "outputs": [
        {
          "data": {
            "text/plain": [
              "4"
            ]
          },
          "execution_count": 108,
          "metadata": {},
          "output_type": "execute_result"
        }
      ],
      "source": [
        "len(t)"
      ]
    },
    {
      "cell_type": "code",
      "execution_count": null,
      "id": "29862dc8-78da-427b-85ca-4d2d25bb0084",
      "metadata": {
        "id": "29862dc8-78da-427b-85ca-4d2d25bb0084",
        "outputId": "1ed84d5d-0e61-48dc-9367-b61dc5b610cb"
      },
      "outputs": [
        {
          "data": {
            "text/plain": [
              "1"
            ]
          },
          "execution_count": 109,
          "metadata": {},
          "output_type": "execute_result"
        }
      ],
      "source": [
        "t.count(True)"
      ]
    },
    {
      "cell_type": "code",
      "execution_count": null,
      "id": "d9d9be92-0644-4fa8-af68-afa75cb832b0",
      "metadata": {
        "id": "d9d9be92-0644-4fa8-af68-afa75cb832b0"
      },
      "outputs": [],
      "source": [
        "s2 = (1,4,7.7,\"class\",True)"
      ]
    },
    {
      "cell_type": "code",
      "execution_count": null,
      "id": "1bf37dd0-1a83-42fa-8445-b840cfa7e2e9",
      "metadata": {
        "id": "1bf37dd0-1a83-42fa-8445-b840cfa7e2e9",
        "outputId": "6cacaba8-63a7-4e7e-e91c-e7becbd62bd5"
      },
      "outputs": [
        {
          "data": {
            "text/plain": [
              "2"
            ]
          },
          "execution_count": 111,
          "metadata": {},
          "output_type": "execute_result"
        }
      ],
      "source": [
        "s2.count(True)"
      ]
    },
    {
      "cell_type": "code",
      "execution_count": null,
      "id": "7deefa81-55f7-4da0-b923-d773a8612431",
      "metadata": {
        "id": "7deefa81-55f7-4da0-b923-d773a8612431",
        "outputId": "76a9b75e-d01d-401b-dab7-20829376fb91"
      },
      "outputs": [
        {
          "name": "stdout",
          "output_type": "stream",
          "text": [
            "you will be part of A1 batch\n"
          ]
        }
      ],
      "source": [
        "marks = 67\n",
        "if marks >= 80 :\n",
        "    print(\"you will be part of A0 batch\")\n",
        "elif marks >= 60 and marks < 80 :\n",
        "    print(\"you will be part of A1 batch\")\n",
        "elif marks >= 40 and marks < 60 :\n",
        "    print(\"you will be part of A2 batch\")\n",
        "else :\n",
        "    print(\"you will be part of A3 batch\")\n"
      ]
    },
    {
      "cell_type": "code",
      "execution_count": null,
      "id": "ec78cd90-1f3a-4f63-b91d-9fced7d3fdd1",
      "metadata": {
        "id": "ec78cd90-1f3a-4f63-b91d-9fced7d3fdd1",
        "outputId": "69a09d9f-8572-4744-ed87-86f5dd70d6e8"
      },
      "outputs": [
        {
          "name": "stdout",
          "output_type": "stream",
          "text": [
            "you will be a part of A1 batch\n"
          ]
        }
      ],
      "source": [
        "marks = 70\n",
        "if marks >= 80 :\n",
        "    print(\"you will be a part of A0 batch\")\n",
        "if marks >= 60 and  marks <80 :\n",
        "    print(\"you will be a part of A1 batch\")\n",
        "elif marks >= 40 and marks < 60 :\n",
        "    print(\"you will be a part of A2 batch\")\n",
        "else :\n",
        "    print(\"you will be a part of A3 batch\")\n"
      ]
    },
    {
      "cell_type": "markdown",
      "id": "08a9c3a9-f48e-49f0-ac07-45fddbda9e80",
      "metadata": {
        "id": "08a9c3a9-f48e-49f0-ac07-45fddbda9e80"
      },
      "source": [
        "\n",
        "sdfas ff fsdfas dasdfasdf asdasdfasdf as\n",
        "asdfas\n",
        "fasd\n",
        "fs\n",
        "f\n",
        "asf\n",
        "asdf\n",
        "asdf\n",
        "asdf\n",
        "sdf\n",
        "asdf\n",
        "sf\n",
        "sdf\n",
        "asf\n",
        "sd\n",
        "fasd\n",
        "fasd"
      ]
    },
    {
      "cell_type": "code",
      "execution_count": null,
      "id": "0e743998-133d-4712-8ee0-577f32fc775b",
      "metadata": {
        "id": "0e743998-133d-4712-8ee0-577f32fc775b",
        "outputId": "e846b1de-b56f-4a2e-9969-32635766bab8"
      },
      "outputs": [
        {
          "name": "stdout",
          "output_type": "stream",
          "text": [
            "you will be part of A1 batch\n"
          ]
        }
      ],
      "source": [
        "marks = int(input(\"enter your marks\"))\n",
        "\n",
        "if marks > 100 :\n",
        "    print(\"this is not a valid marks )\n",
        "else : \n",
        "    if marks >= 80 :\n",
        "        print(\"you will be part of A0 batch\") \n",
        "    elif marks >= 60 and marks < 80 :\n",
        "        print(\"you will be part of A1 batch\")\n",
        "    elif marks >= 40 and marks < 60 :\n",
        "        print(\"you will be part of A2 batch\")\n",
        "    else :\n",
        "        print(\"you will be part of A3 batch\")\n"
      ]
    },
    {
      "cell_type": "code",
      "execution_count": null,
      "id": "efb92cf4-7ff7-42d1-ab73-647626c5e388",
      "metadata": {
        "id": "efb92cf4-7ff7-42d1-ab73-647626c5e388"
      },
      "outputs": [],
      "source": [
        "s = \"munna\""
      ]
    },
    {
      "cell_type": "code",
      "execution_count": null,
      "id": "4c19496b-5175-40cf-81dc-61090b335ad8",
      "metadata": {
        "id": "4c19496b-5175-40cf-81dc-61090b335ad8",
        "outputId": "5797d939-3bbd-4293-efad-4911d1d7acdb"
      },
      "outputs": [
        {
          "ename": "TypeError",
          "evalue": "'str' object does not support item assignment",
          "output_type": "error",
          "traceback": [
            "\u001b[0;31m---------------------------------------------------------------------------\u001b[0m",
            "\u001b[0;31mTypeError\u001b[0m                                 Traceback (most recent call last)",
            "Cell \u001b[0;32mIn[125], line 1\u001b[0m\n\u001b[0;32m----> 1\u001b[0m \u001b[43ms\u001b[49m\u001b[43m[\u001b[49m\u001b[38;5;241;43m0\u001b[39;49m\u001b[43m]\u001b[49m \u001b[38;5;241m=\u001b[39m \u001b[38;5;241m1\u001b[39m\n",
            "\u001b[0;31mTypeError\u001b[0m: 'str' object does not support item assignment"
          ]
        }
      ],
      "source": [
        "s[0] = 1"
      ]
    },
    {
      "cell_type": "code",
      "execution_count": null,
      "id": "383c0c71-48e1-4387-b8d2-c0965fdce21e",
      "metadata": {
        "id": "383c0c71-48e1-4387-b8d2-c0965fdce21e"
      },
      "outputs": [],
      "source": [
        "l = [1,2,3,45]"
      ]
    },
    {
      "cell_type": "code",
      "execution_count": null,
      "id": "3208c292-c838-46f7-bdf4-93305ef21905",
      "metadata": {
        "id": "3208c292-c838-46f7-bdf4-93305ef21905"
      },
      "outputs": [],
      "source": [
        "l[0] = 100"
      ]
    },
    {
      "cell_type": "code",
      "execution_count": null,
      "id": "189949a7-c977-4d6d-b7fd-c14d45badd57",
      "metadata": {
        "id": "189949a7-c977-4d6d-b7fd-c14d45badd57",
        "outputId": "e6952ad7-3803-4c93-c09b-41735f7d5281"
      },
      "outputs": [
        {
          "data": {
            "text/plain": [
              "[100, 2, 3, 45]"
            ]
          },
          "execution_count": 129,
          "metadata": {},
          "output_type": "execute_result"
        }
      ],
      "source": [
        "l"
      ]
    },
    {
      "cell_type": "code",
      "execution_count": null,
      "id": "ccf66083-4c88-4aaa-850b-135a52bd4b64",
      "metadata": {
        "id": "ccf66083-4c88-4aaa-850b-135a52bd4b64",
        "outputId": "5a8d092c-9fbb-4fa7-f5b3-5b6939964022"
      },
      "outputs": [
        {
          "name": "stdout",
          "output_type": "stream",
          "text": [
            "101\n",
            "3\n",
            "4\n",
            "46\n"
          ]
        },
        {
          "data": {
            "text/plain": [
              "[101, 3, 4, 46]"
            ]
          },
          "execution_count": 131,
          "metadata": {},
          "output_type": "execute_result"
        }
      ],
      "source": [
        "l2 = []\n",
        "for i in l :\n",
        "    l2.append(i+1)\n",
        "    print(i+1)\n",
        "l2"
      ]
    },
    {
      "cell_type": "code",
      "execution_count": null,
      "id": "91732a5b-3181-4d7e-b628-8bbdf2773797",
      "metadata": {
        "id": "91732a5b-3181-4d7e-b628-8bbdf2773797",
        "outputId": "e8325c0a-9de1-4171-f1f6-9031f54b7ff9"
      },
      "outputs": [
        {
          "name": "stdout",
          "output_type": "stream",
          "text": [
            "3\n",
            "4\n",
            "5\n",
            "5\n",
            "6\n",
            "7\n",
            "8\n",
            "9\n",
            "10\n"
          ]
        },
        {
          "data": {
            "text/plain": [
              "[3, 4, 5, 5, 6, 7, 8, 9, 10]"
            ]
          },
          "execution_count": 132,
          "metadata": {},
          "output_type": "execute_result"
        }
      ],
      "source": [
        "l2 = []\n",
        "for i in l1 :\n",
        "    l2.append(i+1)\n",
        "    print(i+1)\n",
        "l2"
      ]
    },
    {
      "cell_type": "code",
      "execution_count": null,
      "id": "6cebbed4-87aa-409a-9c46-065900fd4d8a",
      "metadata": {
        "id": "6cebbed4-87aa-409a-9c46-065900fd4d8a",
        "outputId": "e1871b15-c91c-47c6-8e00-eaa8c247a88e"
      },
      "outputs": [
        {
          "name": "stdout",
          "output_type": "stream",
          "text": [
            "a\n",
            "k\n",
            "s\n",
            "h\n",
            "a\n",
            "t\n"
          ]
        }
      ],
      "source": [
        "for ak in \"akshat\": \n",
        "    print(ak)\n"
      ]
    },
    {
      "cell_type": "code",
      "execution_count": null,
      "id": "699c6b0f-a456-4ca7-8112-1a70ff98d1f6",
      "metadata": {
        "id": "699c6b0f-a456-4ca7-8112-1a70ff98d1f6",
        "outputId": "affcd6f0-0d34-4b89-fe96-805ebb2d9c1b"
      },
      "outputs": [
        {
          "name": "stdout",
          "output_type": "stream",
          "text": [
            "keys :  ['a', 'b', 'c']\n",
            "values :  ['akshat', 'bhuvan', 'chandan']\n"
          ]
        }
      ],
      "source": [
        "dict1 = {'a': 'akshat', 'b': 'bhuvan', 'c': 'chandan'}\n",
        " \n",
        "keys = []\n",
        "values = []\n",
        "for item in dict1.items():\n",
        "    keys.append(item[0]), values.append(item[1])\n",
        "\n",
        "print(\"keys : \", keys)\n",
        "print(\"values : \", values)\n"
      ]
    },
    {
      "cell_type": "code",
      "execution_count": null,
      "id": "e69cdafe-3c7c-49e4-87fd-4ccce33355fd",
      "metadata": {
        "id": "e69cdafe-3c7c-49e4-87fd-4ccce33355fd",
        "outputId": "f65e8be7-f8b9-4495-cf27-65d28c7dd7a3"
      },
      "outputs": [
        {
          "data": {
            "text/plain": [
              "{'launch_date': {12, 14, 28},\n",
              " 'class_time': {'web_dev': 8,\n",
              "  'Data science masters': 8,\n",
              "  'java with dsa and system design': 7},\n",
              " 'mentor': ['sudhanshu', 'krish', 'anurag', 'hayder']}"
            ]
          },
          "execution_count": 136,
          "metadata": {},
          "output_type": "execute_result"
        }
      ],
      "source": [
        "d6"
      ]
    },
    {
      "cell_type": "code",
      "execution_count": null,
      "id": "e7e1d0ea-4a6d-4f2f-8b85-e00d55113118",
      "metadata": {
        "id": "e7e1d0ea-4a6d-4f2f-8b85-e00d55113118",
        "outputId": "f84cd64f-e1bb-49f5-d179-2b04ffc49bba"
      },
      "outputs": [
        {
          "data": {
            "text/plain": [
              "{3: None, 4: None, 5: None, 6: None}"
            ]
          },
          "execution_count": 137,
          "metadata": {},
          "output_type": "execute_result"
        }
      ],
      "source": [
        "d6.fromkeys([3,4,5,6])"
      ]
    },
    {
      "cell_type": "code",
      "execution_count": null,
      "id": "265274f4-afa6-4c68-bff1-edb6736fc4c1",
      "metadata": {
        "id": "265274f4-afa6-4c68-bff1-edb6736fc4c1"
      },
      "outputs": [],
      "source": []
    }
  ],
  "metadata": {
    "kernelspec": {
      "display_name": "Python 3 (ipykernel)",
      "language": "python",
      "name": "python3"
    },
    "language_info": {
      "codemirror_mode": {
        "name": "ipython",
        "version": 3
      },
      "file_extension": ".py",
      "mimetype": "text/x-python",
      "name": "python",
      "nbconvert_exporter": "python",
      "pygments_lexer": "ipython3",
      "version": "3.10.8"
    },
    "colab": {
      "provenance": []
    }
  },
  "nbformat": 4,
  "nbformat_minor": 5
}