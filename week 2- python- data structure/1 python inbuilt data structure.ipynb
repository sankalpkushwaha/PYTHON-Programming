{
 "cells": [
  {
   "cell_type": "markdown",
   "id": "21129cf2-7a92-49b5-a3c8-f7754112b0b5",
   "metadata": {},
   "source": [
    "python number methods"
   ]
  },
  {
   "cell_type": "code",
   "execution_count": 2,
   "id": "fdaebd93-9113-433c-82a3-9c91aeeeca56",
   "metadata": {},
   "outputs": [
    {
     "data": {
      "text/plain": [
       "3"
      ]
     },
     "execution_count": 2,
     "metadata": {},
     "output_type": "execute_result"
    }
   ],
   "source": [
    "1+2\n"
   ]
  },
  {
   "cell_type": "markdown",
   "id": "5308b0c3-f8f1-4303-929f-2e2a5f0c27ad",
   "metadata": {},
   "source": [
    "abs()\n",
    "it wii return the absolute vale of a number x which will pass in argument. the number x can be integer, float,\n",
    "complex...\n"
   ]
  },
  {
   "cell_type": "code",
   "execution_count": 4,
   "id": "97f2149a-f7e7-43eb-b326-3966e6e2dc02",
   "metadata": {},
   "outputs": [
    {
     "data": {
      "text/plain": [
       "30"
      ]
     },
     "execution_count": 4,
     "metadata": {},
     "output_type": "execute_result"
    }
   ],
   "source": [
    "abs(30)"
   ]
  },
  {
   "cell_type": "code",
   "execution_count": 6,
   "id": "73eefe2b-aea1-498f-a2c0-effa704a6444",
   "metadata": {},
   "outputs": [
    {
     "data": {
      "text/plain": [
       "30"
      ]
     },
     "execution_count": 6,
     "metadata": {},
     "output_type": "execute_result"
    }
   ],
   "source": [
    "abs(-30)"
   ]
  },
  {
   "cell_type": "code",
   "execution_count": 8,
   "id": "0bee24a1-e398-47c6-a018-d89df57eb9bd",
   "metadata": {},
   "outputs": [
    {
     "data": {
      "text/plain": [
       "4.3"
      ]
     },
     "execution_count": 8,
     "metadata": {},
     "output_type": "execute_result"
    }
   ],
   "source": [
    "abs(4.30)"
   ]
  },
  {
   "cell_type": "code",
   "execution_count": 10,
   "id": "caaa9793-647d-45f9-9053-025c8e7adf8f",
   "metadata": {},
   "outputs": [
    {
     "data": {
      "text/plain": [
       "4.3"
      ]
     },
     "execution_count": 10,
     "metadata": {},
     "output_type": "execute_result"
    }
   ],
   "source": [
    "abs(-4.30)"
   ]
  },
  {
   "cell_type": "code",
   "execution_count": 12,
   "id": "fe913406-899d-4dd3-9d96-3f02758bade1",
   "metadata": {},
   "outputs": [
    {
     "data": {
      "text/plain": [
       "4.03"
      ]
     },
     "execution_count": 12,
     "metadata": {},
     "output_type": "execute_result"
    }
   ],
   "source": [
    "abs(-4.03)"
   ]
  },
  {
   "cell_type": "markdown",
   "id": "3581661f-4972-4bb7-b756-1bb0b6323c14",
   "metadata": {},
   "source": [
    "ceil()\n",
    "ceil(x) will return the ceiling value of a number x which we pass in argument. The ceiling value of a number x will be the smallest integer not less than x\n",
    "\n",
    "Note :- This function will not be accessible directly using ceil() method. Math module will be required to access this method."
   ]
  },
  {
   "cell_type": "code",
   "execution_count": 14,
   "id": "200781d4-283f-4644-9f6e-e91b4c644258",
   "metadata": {},
   "outputs": [],
   "source": [
    "import math"
   ]
  },
  {
   "cell_type": "code",
   "execution_count": 17,
   "id": "a538c2dd-ef5b-4e6e-8f10-6c93c2aed91e",
   "metadata": {},
   "outputs": [
    {
     "data": {
      "text/plain": [
       "44"
      ]
     },
     "execution_count": 17,
     "metadata": {},
     "output_type": "execute_result"
    }
   ],
   "source": [
    "math.ceil(43.67)"
   ]
  },
  {
   "cell_type": "code",
   "execution_count": 19,
   "id": "b6c8c20d-4c7a-4765-9e53-c9d01a20b592",
   "metadata": {},
   "outputs": [
    {
     "data": {
      "text/plain": [
       "44"
      ]
     },
     "execution_count": 19,
     "metadata": {},
     "output_type": "execute_result"
    }
   ],
   "source": [
    "math.ceil(43.3)"
   ]
  },
  {
   "cell_type": "code",
   "execution_count": 21,
   "id": "478ac9c4-63b8-459f-b20e-32cf0f9066b3",
   "metadata": {},
   "outputs": [
    {
     "data": {
      "text/plain": [
       "44"
      ]
     },
     "execution_count": 21,
     "metadata": {},
     "output_type": "execute_result"
    }
   ],
   "source": [
    "math.ceil(43.1)"
   ]
  },
  {
   "cell_type": "code",
   "execution_count": 23,
   "id": "ef9b20c9-c126-465e-aef8-c615a77dce66",
   "metadata": {},
   "outputs": [
    {
     "data": {
      "text/plain": [
       "43"
      ]
     },
     "execution_count": 23,
     "metadata": {},
     "output_type": "execute_result"
    }
   ],
   "source": [
    "math.ceil(43.0)"
   ]
  },
  {
   "cell_type": "code",
   "execution_count": 25,
   "id": "af96a84f-da58-4eec-a66e-046d303b32b8",
   "metadata": {},
   "outputs": [
    {
     "data": {
      "text/plain": [
       "-43"
      ]
     },
     "execution_count": 25,
     "metadata": {},
     "output_type": "execute_result"
    }
   ],
   "source": [
    "math.ceil(-43.67)"
   ]
  },
  {
   "cell_type": "markdown",
   "id": "4e9f8d46-10fe-4749-9ff6-d31174a3322c",
   "metadata": {},
   "source": [
    "floor"
   ]
  },
  {
   "cell_type": "code",
   "execution_count": 28,
   "id": "734c3e2d-c0fe-4579-8f6d-2f458f4be290",
   "metadata": {},
   "outputs": [
    {
     "data": {
      "text/plain": [
       "43"
      ]
     },
     "execution_count": 28,
     "metadata": {},
     "output_type": "execute_result"
    }
   ],
   "source": [
    "math.floor(43.6)"
   ]
  },
  {
   "cell_type": "code",
   "execution_count": 30,
   "id": "058d2200-8c0f-42ca-9430-46f1643a2a80",
   "metadata": {},
   "outputs": [
    {
     "data": {
      "text/plain": [
       "-44"
      ]
     },
     "execution_count": 30,
     "metadata": {},
     "output_type": "execute_result"
    }
   ],
   "source": [
    "math.floor(-43.6)"
   ]
  },
  {
   "cell_type": "code",
   "execution_count": 32,
   "id": "a6cfc8db-7f8f-47ea-a913-559715c80590",
   "metadata": {},
   "outputs": [
    {
     "data": {
      "text/plain": [
       "43"
      ]
     },
     "execution_count": 32,
     "metadata": {},
     "output_type": "execute_result"
    }
   ],
   "source": [
    "math.floor(43.9)"
   ]
  },
  {
   "cell_type": "markdown",
   "id": "17275f06-1585-4850-9b94-a936b78c92f7",
   "metadata": {},
   "source": [
    "exp(x) will return the exponential value of a number x which we pass in argument.\n",
    "\n",
    "Note:- This function will not be accessible directly using exp() method. Math module will be required to access this method."
   ]
  },
  {
   "cell_type": "code",
   "execution_count": 34,
   "id": "10fc0695-bc82-43ee-b046-bc7b80237255",
   "metadata": {},
   "outputs": [
    {
     "data": {
      "text/plain": [
       "22026.465794806718"
      ]
     },
     "execution_count": 34,
     "metadata": {},
     "output_type": "execute_result"
    }
   ],
   "source": [
    "math.exp(10)"
   ]
  },
  {
   "cell_type": "code",
   "execution_count": 36,
   "id": "f94b69c9-0151-4109-94b3-af2a29ed38d1",
   "metadata": {},
   "outputs": [
    {
     "data": {
      "text/plain": [
       "0.0009118819655545162"
      ]
     },
     "execution_count": 36,
     "metadata": {},
     "output_type": "execute_result"
    }
   ],
   "source": [
    "\n",
    "math.exp(-7)"
   ]
  },
  {
   "cell_type": "markdown",
   "id": "01b464bc-21e0-45c4-8fc1-faa9ee98918c",
   "metadata": {},
   "source": [
    "\n",
    "fabs()\n"
   ]
  },
  {
   "cell_type": "code",
   "execution_count": 38,
   "id": "f3d52949-63c9-4f8a-8261-c2ef1b983152",
   "metadata": {},
   "outputs": [
    {
     "data": {
      "text/plain": [
       "10.53"
      ]
     },
     "execution_count": 38,
     "metadata": {},
     "output_type": "execute_result"
    }
   ],
   "source": [
    "math.fabs(10.53)"
   ]
  },
  {
   "cell_type": "code",
   "execution_count": 40,
   "id": "a2450a79-4edb-4a35-ad7a-88ae858eec11",
   "metadata": {},
   "outputs": [
    {
     "data": {
      "text/plain": [
       "10.0"
      ]
     },
     "execution_count": 40,
     "metadata": {},
     "output_type": "execute_result"
    }
   ],
   "source": [
    "math.fabs(-10)"
   ]
  },
  {
   "cell_type": "markdown",
   "id": "f2c3fe3e-7dc3-429b-99f5-4e6f15a82df2",
   "metadata": {},
   "source": [
    "log(x)"
   ]
  },
  {
   "cell_type": "code",
   "execution_count": 45,
   "id": "58b5c26d-da3a-40ac-84a3-1568cd380c1d",
   "metadata": {},
   "outputs": [
    {
     "data": {
      "text/plain": [
       "2.995732273553991"
      ]
     },
     "execution_count": 45,
     "metadata": {},
     "output_type": "execute_result"
    }
   ],
   "source": [
    "math.log(20)"
   ]
  },
  {
   "cell_type": "code",
   "execution_count": 46,
   "id": "abd63d3b-54ef-4b3c-9e23-b653df984fbd",
   "metadata": {},
   "outputs": [
    {
     "data": {
      "text/plain": [
       "3.7954891891721947"
      ]
     },
     "execution_count": 46,
     "metadata": {},
     "output_type": "execute_result"
    }
   ],
   "source": [
    "math.log(44.5)"
   ]
  },
  {
   "cell_type": "code",
   "execution_count": 48,
   "id": "ac51add7-e412-4dff-9ff2-24fdb07d3922",
   "metadata": {},
   "outputs": [
    {
     "data": {
      "text/plain": [
       "1.3010299956639813"
      ]
     },
     "execution_count": 48,
     "metadata": {},
     "output_type": "execute_result"
    }
   ],
   "source": [
    "math.log10(20)"
   ]
  },
  {
   "cell_type": "markdown",
   "id": "d04d9fc2-342d-4499-a523-b412be6c8ddd",
   "metadata": {},
   "source": [
    "max()"
   ]
  },
  {
   "cell_type": "code",
   "execution_count": 51,
   "id": "f47775f8-7d2b-47a3-ba0a-d2d55bf3dd21",
   "metadata": {},
   "outputs": [
    {
     "data": {
      "text/plain": [
       "100"
      ]
     },
     "execution_count": 51,
     "metadata": {},
     "output_type": "execute_result"
    }
   ],
   "source": [
    "max(10,12,5,76,100)"
   ]
  },
  {
   "cell_type": "code",
   "execution_count": 53,
   "id": "9912d6e2-45d5-4027-bc94-7d8af949434a",
   "metadata": {},
   "outputs": [
    {
     "data": {
      "text/plain": [
       "-33"
      ]
     },
     "execution_count": 53,
     "metadata": {},
     "output_type": "execute_result"
    }
   ],
   "source": [
    "max(-55,-44,-33)"
   ]
  },
  {
   "cell_type": "markdown",
   "id": "0df7bfe8-f461-4ac1-993a-87ecc8dc99c8",
   "metadata": {},
   "source": [
    "min()"
   ]
  },
  {
   "cell_type": "code",
   "execution_count": 57,
   "id": "378674b7-8929-4728-a87e-d2acfcf87bd6",
   "metadata": {},
   "outputs": [
    {
     "data": {
      "text/plain": [
       "0"
      ]
     },
     "execution_count": 57,
     "metadata": {},
     "output_type": "execute_result"
    }
   ],
   "source": [
    "\n",
    "min(0,100,4,5,6,3)"
   ]
  },
  {
   "cell_type": "code",
   "execution_count": 59,
   "id": "98312f26-7ec4-43ee-815d-173dd6fb2056",
   "metadata": {},
   "outputs": [
    {
     "data": {
      "text/plain": [
       "-1"
      ]
     },
     "execution_count": 59,
     "metadata": {},
     "output_type": "execute_result"
    }
   ],
   "source": [
    "min(-1,0)"
   ]
  },
  {
   "cell_type": "markdown",
   "id": "87d4c25f-ba49-4699-87e0-32ddc0193f0c",
   "metadata": {},
   "source": [
    "pow()"
   ]
  },
  {
   "cell_type": "code",
   "execution_count": 61,
   "id": "1573df55-c1e2-42ba-aecd-809ecb5e8643",
   "metadata": {},
   "outputs": [
    {
     "data": {
      "text/plain": [
       "32.0"
      ]
     },
     "execution_count": 61,
     "metadata": {},
     "output_type": "execute_result"
    }
   ],
   "source": [
    "import math\n",
    "math.pow(2,5)"
   ]
  },
  {
   "cell_type": "code",
   "execution_count": 63,
   "id": "87032b4d-4ceb-4a80-a483-4c5349e5341c",
   "metadata": {},
   "outputs": [
    {
     "data": {
      "text/plain": [
       "-0.00032"
      ]
     },
     "execution_count": 63,
     "metadata": {},
     "output_type": "execute_result"
    }
   ],
   "source": [
    "import math\n",
    "math.pow(-5,-5)"
   ]
  },
  {
   "cell_type": "markdown",
   "id": "b4191305-11d2-4112-8ff7-a2dbe74be8ff",
   "metadata": {},
   "source": [
    "sqrt()"
   ]
  },
  {
   "cell_type": "code",
   "execution_count": 65,
   "id": "73afa1eb-1df3-45ee-a7f0-988c26128b5e",
   "metadata": {},
   "outputs": [
    {
     "data": {
      "text/plain": [
       "4.0"
      ]
     },
     "execution_count": 65,
     "metadata": {},
     "output_type": "execute_result"
    }
   ],
   "source": [
    "math.sqrt(16)"
   ]
  },
  {
   "cell_type": "code",
   "execution_count": 67,
   "id": "0a3b9a0e-7287-4a01-bce3-444cf39ff3a0",
   "metadata": {},
   "outputs": [
    {
     "data": {
      "text/plain": [
       "3.0"
      ]
     },
     "execution_count": 67,
     "metadata": {},
     "output_type": "execute_result"
    }
   ],
   "source": [
    "math.sqrt(9)"
   ]
  },
  {
   "cell_type": "code",
   "execution_count": 69,
   "id": "5d212c15-d461-4ad7-b134-ea76036feb6b",
   "metadata": {},
   "outputs": [
    {
     "data": {
      "text/plain": [
       "10.04987562112089"
      ]
     },
     "execution_count": 69,
     "metadata": {},
     "output_type": "execute_result"
    }
   ],
   "source": [
    "\n",
    "math.sqrt(101)"
   ]
  },
  {
   "cell_type": "markdown",
   "id": "96873bb0-268f-4415-9ba2-a9ac11574870",
   "metadata": {},
   "source": [
    "Triggnometric functions\n"
   ]
  },
  {
   "cell_type": "code",
   "execution_count": 71,
   "id": "4c2e05aa-1337-48a6-a6e8-33ffe9c4294b",
   "metadata": {},
   "outputs": [
    {
     "data": {
      "text/plain": [
       "0.0"
      ]
     },
     "execution_count": 71,
     "metadata": {},
     "output_type": "execute_result"
    }
   ],
   "source": [
    "import math\n",
    "math.sin(0)"
   ]
  },
  {
   "cell_type": "code",
   "execution_count": 73,
   "id": "974e8ff5-6ef4-4d2d-bd56-49ccfe23705d",
   "metadata": {},
   "outputs": [
    {
     "data": {
      "text/plain": [
       "-0.4480736161291701"
      ]
     },
     "execution_count": 73,
     "metadata": {},
     "output_type": "execute_result"
    }
   ],
   "source": [
    "math.cos(90)"
   ]
  },
  {
   "cell_type": "code",
   "execution_count": 75,
   "id": "846fb337-ce48-4ad8-b087-e352ec3e5abb",
   "metadata": {},
   "outputs": [
    {
     "data": {
      "text/plain": [
       "1.0"
      ]
     },
     "execution_count": 75,
     "metadata": {},
     "output_type": "execute_result"
    }
   ],
   "source": [
    "math.cos(0)"
   ]
  },
  {
   "cell_type": "code",
   "execution_count": 77,
   "id": "4472d524-6cb7-49b4-adb4-1e97f6fb3ae7",
   "metadata": {},
   "outputs": [
    {
     "data": {
      "text/plain": [
       "1.6197751905438615"
      ]
     },
     "execution_count": 77,
     "metadata": {},
     "output_type": "execute_result"
    }
   ],
   "source": [
    "math.tan(45)"
   ]
  },
  {
   "cell_type": "code",
   "execution_count": 79,
   "id": "bdbae302-83dc-4c51-b881-3b4560e4d9b2",
   "metadata": {},
   "outputs": [
    {
     "data": {
      "text/plain": [
       "-1.995200412208242"
      ]
     },
     "execution_count": 79,
     "metadata": {},
     "output_type": "execute_result"
    }
   ],
   "source": [
    "math.tan(90)"
   ]
  },
  {
   "cell_type": "code",
   "execution_count": 5,
   "id": "738efe52-57ac-4ffa-bd8f-de03f1d9c9e1",
   "metadata": {},
   "outputs": [
    {
     "data": {
      "text/plain": [
       "3.605551275463989"
      ]
     },
     "execution_count": 5,
     "metadata": {},
     "output_type": "execute_result"
    }
   ],
   "source": [
    "## hypot()\n",
    "import math\n",
    "math.hypot(2,3)"
   ]
  },
  {
   "cell_type": "markdown",
   "id": "13577a91-a311-4fd1-b84c-a82029f782db",
   "metadata": {},
   "source": [
    "Assignment\n",
    "1.math.modf()\n",
    "2.Program to check prime numbers\n",
    "3.Program to check max of 3 numbers"
   ]
  },
  {
   "cell_type": "code",
   "execution_count": 7,
   "id": "4ef8ff7d-7804-4c53-bd6e-b68facd1cc4a",
   "metadata": {},
   "outputs": [],
   "source": [
    "import math"
   ]
  },
  {
   "cell_type": "code",
   "execution_count": 9,
   "id": "bdeaf663-1a0a-435c-bd5b-09984b4b3c81",
   "metadata": {},
   "outputs": [
    {
     "data": {
      "text/plain": [
       "(0.8999999999999986, 20.0)"
      ]
     },
     "execution_count": 9,
     "metadata": {},
     "output_type": "execute_result"
    }
   ],
   "source": [
    "math.modf(20.9)"
   ]
  },
  {
   "cell_type": "code",
   "execution_count": null,
   "id": "abd1702e-0c43-44ca-9e9b-ad220b553bba",
   "metadata": {},
   "outputs": [],
   "source": []
  }
 ],
 "metadata": {
  "kernelspec": {
   "display_name": "Python 3 (ipykernel)",
   "language": "python",
   "name": "python3"
  },
  "language_info": {
   "codemirror_mode": {
    "name": "ipython",
    "version": 3
   },
   "file_extension": ".py",
   "mimetype": "text/x-python",
   "name": "python",
   "nbconvert_exporter": "python",
   "pygments_lexer": "ipython3",
   "version": "3.10.8"
  }
 },
 "nbformat": 4,
 "nbformat_minor": 5
}
