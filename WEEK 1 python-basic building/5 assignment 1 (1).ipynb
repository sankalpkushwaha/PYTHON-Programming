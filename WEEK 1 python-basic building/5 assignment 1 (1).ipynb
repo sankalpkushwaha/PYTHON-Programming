{
 "cells": [
  {
   "cell_type": "markdown",
   "id": "44ff49c7-c180-4177-bf54-2fd6da990255",
   "metadata": {},
   "source": [
    "Assignment"
   ]
  },
  {
   "cell_type": "markdown",
   "id": "57aa08a0-1f2c-42cf-917c-59f37aa8e299",
   "metadata": {},
   "source": [
    "Q1. Create one variable containing following type of data:\n",
    "(i) string\n",
    "(ii) list\n",
    "(iii) float\n",
    "(iv) tuple"
   ]
  },
  {
   "cell_type": "code",
   "execution_count": 2,
   "id": "2a96c4ba-b171-47a1-97f6-9696fe7313b9",
   "metadata": {},
   "outputs": [
    {
     "name": "stdout",
     "output_type": "stream",
     "text": [
      "sankalp\n"
     ]
    }
   ],
   "source": [
    "s=\"sankalp\"\n",
    "print(s)"
   ]
  },
  {
   "cell_type": "code",
   "execution_count": 5,
   "id": "0c01b3cd-e718-4eac-918f-0f463e6ce30b",
   "metadata": {},
   "outputs": [
    {
     "name": "stdout",
     "output_type": "stream",
     "text": [
      "[4, 5, 6, 'sankalp', 55.6, True]\n"
     ]
    }
   ],
   "source": [
    "l=[4,5,6,\"sankalp\",55.6,True]\n",
    "print(l)"
   ]
  },
  {
   "cell_type": "code",
   "execution_count": 7,
   "id": "ae370ea9-f3ad-4f78-a3e0-f21be522cefd",
   "metadata": {},
   "outputs": [
    {
     "name": "stdout",
     "output_type": "stream",
     "text": [
      "55.6\n"
     ]
    }
   ],
   "source": [
    "f=55.6\n",
    "print(f)"
   ]
  },
  {
   "cell_type": "code",
   "execution_count": 9,
   "id": "3f28f987-b9a4-40c0-8098-563d0f06106e",
   "metadata": {},
   "outputs": [
    {
     "name": "stdout",
     "output_type": "stream",
     "text": [
      "(4, 5, 6, 'sankalp', 55.6, True)\n"
     ]
    }
   ],
   "source": [
    "t=(4,5,6,\"sankalp\",55.6,True)\n",
    "print(t)"
   ]
  },
  {
   "cell_type": "markdown",
   "id": "ec2e01b4-599a-4695-afde-33069cf2014e",
   "metadata": {},
   "source": [
    "Q2. Given are some following variables containing data:\n",
    "(i) var1 = ‘ ‘\n",
    "(ii) var2 = ‘[ DS , ML , Python]’\n",
    "(iii) var3 = [ ‘DS’ , ’ML’ , ‘Python’ ]\n",
    "(iv) var4 = 1."
   ]
  },
  {
   "cell_type": "code",
   "execution_count": 22,
   "id": "95fc3d04-c060-484a-b658-075fabacdfb6",
   "metadata": {},
   "outputs": [
    {
     "name": "stdout",
     "output_type": "stream",
     "text": [
      "<class 'str'>\n"
     ]
    }
   ],
   "source": [
    "var1 = ' '\n",
    "print(type(var1))"
   ]
  },
  {
   "cell_type": "code",
   "execution_count": 23,
   "id": "510c036f-4c94-4627-aa38-61126bea0d03",
   "metadata": {},
   "outputs": [
    {
     "name": "stdout",
     "output_type": "stream",
     "text": [
      "<class 'str'>\n"
     ]
    }
   ],
   "source": [
    "var2 =' [ DS , ML , Python]'\n",
    "print(type(var2))"
   ]
  },
  {
   "cell_type": "code",
   "execution_count": 26,
   "id": "fd11168c-8af2-407b-b067-c461cb44e7c9",
   "metadata": {},
   "outputs": [
    {
     "name": "stdout",
     "output_type": "stream",
     "text": [
      "<class 'list'>\n"
     ]
    }
   ],
   "source": [
    "var3 = [ 'DS' , 'ML' ,' Python' ]\n",
    "print(type(var3))"
   ]
  },
  {
   "cell_type": "code",
   "execution_count": 28,
   "id": "63da5f31-6e1d-4317-bde2-603c54162019",
   "metadata": {},
   "outputs": [
    {
     "name": "stdout",
     "output_type": "stream",
     "text": [
      "<class 'int'>\n"
     ]
    }
   ],
   "source": [
    "var4 = 1\n",
    "print(type(var4))"
   ]
  },
  {
   "cell_type": "markdown",
   "id": "c96d9ad5-dd9f-4ca4-992f-7a63463c575b",
   "metadata": {},
   "source": [
    "Q3. Explain the use of the following operators using an example:\n",
    "(i) /\n",
    "(ii) %\n",
    "(iii) //\n",
    "(iv) **"
   ]
  },
  {
   "cell_type": "code",
   "execution_count": 30,
   "id": "9f506310-e07e-4d06-8ef9-04ee9e986789",
   "metadata": {},
   "outputs": [
    {
     "name": "stdout",
     "output_type": "stream",
     "text": [
      "0.7142857142857143\n",
      "5\n",
      "0\n",
      "78125\n"
     ]
    }
   ],
   "source": [
    "a=5\n",
    "b=7\n",
    "print(a/b) #division\n",
    "print(a%b) #modulus\n",
    "print(a//b) #floor division\n",
    "print(a**b) #exponential\n"
   ]
  },
  {
   "cell_type": "code",
   "execution_count": 32,
   "id": "959de88e-43ec-4946-9bfd-e04730f930f7",
   "metadata": {},
   "outputs": [
    {
     "name": "stdout",
     "output_type": "stream",
     "text": [
      "1.4\n",
      "2\n",
      "1\n",
      "16807\n"
     ]
    }
   ],
   "source": [
    "a=7\n",
    "b=5\n",
    "print(a/b) #division\n",
    "print(a%b) #modulus\n",
    "print(a//b) #floor division\n",
    "print(a**b) #exponential\n"
   ]
  },
  {
   "cell_type": "markdown",
   "id": "21cadf87-3f2f-4d01-819d-eb54796d3540",
   "metadata": {},
   "source": [
    "Q4. Create a list of length 10 of your choice containing multiple types of data. Using for loop print the\n",
    "element and its data type."
   ]
  },
  {
   "cell_type": "code",
   "execution_count": 37,
   "id": "027f1a78-b61e-4aec-8703-4a9fe1398d6b",
   "metadata": {},
   "outputs": [
    {
     "name": "stdout",
     "output_type": "stream",
     "text": [
      "4\n",
      "<class 'int'>\n",
      "5\n",
      "<class 'int'>\n",
      "6\n",
      "<class 'int'>\n",
      "sankalp\n",
      "<class 'str'>\n",
      "55.6\n",
      "<class 'float'>\n",
      "True\n",
      "<class 'bool'>\n",
      "(4+7j)\n",
      "<class 'complex'>\n",
      "9\n",
      "<class 'int'>\n",
      "66.7\n",
      "<class 'float'>\n",
      "s\n",
      "<class 'str'>\n"
     ]
    }
   ],
   "source": [
    "l=[4,5,6,\"sankalp\",55.6,True,4+7j,9,66.7,'s']\n",
    "for x in l:\n",
    "    print(x)\n",
    "    print(type(x))"
   ]
  },
  {
   "cell_type": "markdown",
   "id": "4cb6f474-1128-4e23-a998-e57c02a169a9",
   "metadata": {},
   "source": [
    "Q5. Using a while loop, verify if the number A is purely divisible by number B and if so then how many\n",
    "times it can be divisible."
   ]
  },
  {
   "cell_type": "code",
   "execution_count": 2,
   "id": "11139c79-5d21-4bca-b6f2-d80775772d8b",
   "metadata": {},
   "outputs": [
    {
     "name": "stdin",
     "output_type": "stream",
     "text": [
      "Enter the value of A:  8\n",
      "Enter the value of B:  2\n"
     ]
    },
    {
     "name": "stdout",
     "output_type": "stream",
     "text": [
      "A is divisible by B, and it can be divided 3 times.\n"
     ]
    }
   ],
   "source": [
    "A = int(input(\"Enter the value of A: \"))\n",
    "B = int(input(\"Enter the value of B: \"))\n",
    "\n",
    "count = 0  # Variable to keep track of the number of divisions\n",
    "\n",
    "# Check if A is divisible by B\n",
    "while A % B == 0:\n",
    "    A = A // B  # Divide A by B\n",
    "    count += 1\n",
    "\n",
    "if count > 0:\n",
    "    print(f\"A is divisible by B, and it can be divided {count} times.\")\n",
    "else:\n",
    "    print(f\"A is not divisible by B.\")"
   ]
  },
  {
   "cell_type": "markdown",
   "id": "e7b1c097-52ab-4f17-a589-5e5ef668d393",
   "metadata": {},
   "source": [
    "Q6. Create a list containing 25 int type data. Using for loop and if-else condition print if the element is\n",
    "divisible by 3 or not."
   ]
  },
  {
   "cell_type": "code",
   "execution_count": 3,
   "id": "a1135313-39f9-42c8-9b2b-ffe7eff3fff1",
   "metadata": {},
   "outputs": [
    {
     "name": "stdout",
     "output_type": "stream",
     "text": [
      "12 is divisible by 3\n",
      "7 is not divisible by 3\n",
      "18 is divisible by 3\n",
      "5 is not divisible by 3\n",
      "27 is divisible by 3\n",
      "15 is divisible by 3\n",
      "32 is not divisible by 3\n",
      "9 is divisible by 3\n",
      "21 is divisible by 3\n",
      "16 is not divisible by 3\n",
      "33 is divisible by 3\n",
      "2 is not divisible by 3\n",
      "11 is not divisible by 3\n",
      "30 is divisible by 3\n",
      "25 is not divisible by 3\n",
      "8 is not divisible by 3\n",
      "14 is not divisible by 3\n",
      "3 is divisible by 3\n",
      "20 is not divisible by 3\n",
      "17 is not divisible by 3\n",
      "22 is not divisible by 3\n",
      "6 is divisible by 3\n",
      "13 is not divisible by 3\n",
      "19 is not divisible by 3\n",
      "4 is not divisible by 3\n"
     ]
    }
   ],
   "source": [
    "# Create a list of 25 integers\n",
    "numbers = [12, 7, 18, 5, 27, 15, 32, 9, 21, 16, 33, 2, 11, 30, 25, 8, 14, 3, 20, 17, 22, 6, 13, 19, 4]\n",
    "\n",
    "# Iterate through the list using a for loop\n",
    "for num in numbers:\n",
    "    if num % 3 == 0:\n",
    "        print(f\"{num} is divisible by 3\")\n",
    "    else:\n",
    "        print(f\"{num} is not divisible by 3\")\n"
   ]
  },
  {
   "cell_type": "markdown",
   "id": "619aa250-8228-4a47-8edc-782490bae0bd",
   "metadata": {},
   "source": [
    "Q7. What do you understand about mutable and immutable data types? Give examples for both showing\n",
    "this property."
   ]
  },
  {
   "cell_type": "markdown",
   "id": "1ba5eb25-d18e-4bd4-befa-01c79f261448",
   "metadata": {},
   "source": [
    "string :--immutable object :--data cannot change at aparticular index\n",
    "list :--mutable object :--data can change at aparticular index"
   ]
  },
  {
   "cell_type": "code",
   "execution_count": 7,
   "id": "bb87fc85-7389-4df7-912f-f63a2d1f91b7",
   "metadata": {},
   "outputs": [
    {
     "data": {
      "text/plain": [
       "[2, 4, 5, 6, 7, 'kushwaha', (4+7j), 7.9, True]"
      ]
     },
     "execution_count": 7,
     "metadata": {},
     "output_type": "execute_result"
    }
   ],
   "source": [
    "l=[2, 4, 5, 6, 7, 'sankalp', (4+7j), 7.9, True]\n",
    "l[5]=\"kushwaha\"\n",
    "l"
   ]
  },
  {
   "cell_type": "code",
   "execution_count": 10,
   "id": "1817408e-ef27-4370-8e8a-097bcf5105ca",
   "metadata": {},
   "outputs": [
    {
     "data": {
      "text/plain": [
       "'l'"
      ]
     },
     "execution_count": 10,
     "metadata": {},
     "output_type": "execute_result"
    }
   ],
   "source": [
    "s=\"sanklap\"\n",
    "s[4]"
   ]
  },
  {
   "cell_type": "code",
   "execution_count": 11,
   "id": "6bb1fb23-92af-4487-a520-454c84ac9f6e",
   "metadata": {},
   "outputs": [
    {
     "ename": "TypeError",
     "evalue": "'str' object does not support item assignment",
     "output_type": "error",
     "traceback": [
      "\u001b[0;31m---------------------------------------------------------------------------\u001b[0m",
      "\u001b[0;31mTypeError\u001b[0m                                 Traceback (most recent call last)",
      "Cell \u001b[0;32mIn[11], line 1\u001b[0m\n\u001b[0;32m----> 1\u001b[0m \u001b[43ms\u001b[49m\u001b[43m[\u001b[49m\u001b[38;5;241;43m4\u001b[39;49m\u001b[43m]\u001b[49m\u001b[38;5;241m=\u001b[39m\u001b[38;5;241m4\u001b[39m\n",
      "\u001b[0;31mTypeError\u001b[0m: 'str' object does not support item assignment"
     ]
    }
   ],
   "source": [
    "s[4]=4"
   ]
  }
 ],
 "metadata": {
  "kernelspec": {
   "display_name": "Python 3 (ipykernel)",
   "language": "python",
   "name": "python3"
  },
  "language_info": {
   "codemirror_mode": {
    "name": "ipython",
    "version": 3
   },
   "file_extension": ".py",
   "mimetype": "text/x-python",
   "name": "python",
   "nbconvert_exporter": "python",
   "pygments_lexer": "ipython3",
   "version": "3.10.8"
  }
 },
 "nbformat": 4,
 "nbformat_minor": 5
}
