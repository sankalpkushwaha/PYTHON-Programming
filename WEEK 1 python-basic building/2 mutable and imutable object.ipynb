{
 "cells": [
  {
   "cell_type": "raw",
   "id": "846a8da9-28cb-4665-899d-460477c31f26",
   "metadata": {},
   "source": [
    "string :--immutable object :--data cannot change at aparticular index\n",
    "list :--mutable object :--data can change at aparticular index"
   ]
  },
  {
   "cell_type": "code",
   "execution_count": 1,
   "id": "ef947352-c62c-44a4-b317-4000853d5aae",
   "metadata": {},
   "outputs": [],
   "source": [
    "l=[2,4,5,6,7,\"sankalp\",4+7j,7.9,True]"
   ]
  },
  {
   "cell_type": "code",
   "execution_count": 2,
   "id": "07f8e172-ba79-4c13-84be-8aec02139be2",
   "metadata": {},
   "outputs": [
    {
     "data": {
      "text/plain": [
       "list"
      ]
     },
     "execution_count": 2,
     "metadata": {},
     "output_type": "execute_result"
    }
   ],
   "source": [
    "type(l)"
   ]
  },
  {
   "cell_type": "code",
   "execution_count": 3,
   "id": "0a98aa2d-2f59-4c4b-9fba-445322f9d93c",
   "metadata": {},
   "outputs": [],
   "source": [
    "s=\"sanklap\""
   ]
  },
  {
   "cell_type": "code",
   "execution_count": 4,
   "id": "7c625f40-1114-486b-86e0-7fbfb46630d6",
   "metadata": {},
   "outputs": [
    {
     "data": {
      "text/plain": [
       "'n'"
      ]
     },
     "execution_count": 4,
     "metadata": {},
     "output_type": "execute_result"
    }
   ],
   "source": [
    "s[-5]"
   ]
  },
  {
   "cell_type": "code",
   "execution_count": 5,
   "id": "4f81054b-b47c-43df-ac60-ca2e1f1c816a",
   "metadata": {},
   "outputs": [
    {
     "data": {
      "text/plain": [
       "[2, 4, 5, 6, 7, 'sankalp', (4+7j), 7.9, True]"
      ]
     },
     "execution_count": 5,
     "metadata": {},
     "output_type": "execute_result"
    }
   ],
   "source": [
    "l"
   ]
  },
  {
   "cell_type": "code",
   "execution_count": 6,
   "id": "e34a2136-2153-4529-bfe2-1d2e1bb13c2b",
   "metadata": {},
   "outputs": [
    {
     "data": {
      "text/plain": [
       "'sankalp'"
      ]
     },
     "execution_count": 6,
     "metadata": {},
     "output_type": "execute_result"
    }
   ],
   "source": [
    "l[5]"
   ]
  },
  {
   "cell_type": "code",
   "execution_count": 7,
   "id": "7c11f76c-4a56-437c-805d-92822dee47e1",
   "metadata": {},
   "outputs": [],
   "source": [
    "l[5]=\"kushwaha\""
   ]
  },
  {
   "cell_type": "code",
   "execution_count": 8,
   "id": "ade12465-49e8-48da-8208-a5ecfb7d7f7e",
   "metadata": {},
   "outputs": [
    {
     "data": {
      "text/plain": [
       "[2, 4, 5, 6, 7, 'kushwaha', (4+7j), 7.9, True]"
      ]
     },
     "execution_count": 8,
     "metadata": {},
     "output_type": "execute_result"
    }
   ],
   "source": [
    "l"
   ]
  },
  {
   "cell_type": "code",
   "execution_count": 9,
   "id": "751fdfe8-9ba6-47ff-ba48-912d39308efc",
   "metadata": {},
   "outputs": [
    {
     "data": {
      "text/plain": [
       "'sanklap'"
      ]
     },
     "execution_count": 9,
     "metadata": {},
     "output_type": "execute_result"
    }
   ],
   "source": [
    "s"
   ]
  },
  {
   "cell_type": "code",
   "execution_count": 20,
   "id": "48409892-0927-4356-9416-13f8f88daf53",
   "metadata": {},
   "outputs": [
    {
     "ename": "TypeError",
     "evalue": "'str' object does not support item assignment",
     "output_type": "error",
     "traceback": [
      "\u001b[0;31m---------------------------------------------------------------------------\u001b[0m",
      "\u001b[0;31mTypeError\u001b[0m                                 Traceback (most recent call last)",
      "Cell \u001b[0;32mIn[20], line 1\u001b[0m\n\u001b[0;32m----> 1\u001b[0m \u001b[43ms\u001b[49m\u001b[43m[\u001b[49m\u001b[38;5;241;43m5\u001b[39;49m\u001b[43m]\u001b[49m\u001b[38;5;241m=\u001b[39m\u001b[38;5;241m8\u001b[39m\n",
      "\u001b[0;31mTypeError\u001b[0m: 'str' object does not support item assignment"
     ]
    }
   ],
   "source": [
    "s[5]=8"
   ]
  }
 ],
 "metadata": {
  "kernelspec": {
   "display_name": "Python 3 (ipykernel)",
   "language": "python",
   "name": "python3"
  },
  "language_info": {
   "codemirror_mode": {
    "name": "ipython",
    "version": 3
   },
   "file_extension": ".py",
   "mimetype": "text/x-python",
   "name": "python",
   "nbconvert_exporter": "python",
   "pygments_lexer": "ipython3",
   "version": "3.10.8"
  }
 },
 "nbformat": 4,
 "nbformat_minor": 5
}
